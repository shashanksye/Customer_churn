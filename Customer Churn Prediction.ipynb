{
 "cells": [
  {
   "cell_type": "code",
   "execution_count": 2,
   "id": "f82d3dc5",
   "metadata": {
    "scrolled": true
   },
   "outputs": [],
   "source": [
    "import numpy as np\n",
    "import pandas as pd\n",
    "import seaborn as sns\n",
    "import matplotlib.pyplot as plt\n",
    "\n",
    "from sklearn.model_selection import train_test_split,KFold,GridSearchCV,cross_val_score\n",
    "from statsmodels.stats.api import jarque_bera\n",
    "from scipy.stats import spearmanr,mannwhitneyu,kruskal\n",
    "from sklearn.preprocessing import StandardScaler\n",
    "from scipy.stats import boxcox\n",
    "\n",
    "from sklearn.linear_model import LogisticRegression\n",
    "from sklearn.naive_bayes import GaussianNB\n",
    "from sklearn.tree import DecisionTreeClassifier\n",
    "from sklearn.ensemble import RandomForestClassifier,AdaBoostClassifier\n",
    "from sklearn.neighbors import KNeighborsClassifier\n",
    "from xgboost import XGBClassifier\n",
    "\n",
    "\n",
    "from sklearn.metrics import accuracy_score,precision_score,recall_score,f1_score,roc_auc_score,auc,confusion_matrix,classification_report,roc_curve\n"
   ]
  },
  {
   "cell_type": "code",
   "execution_count": 3,
   "id": "76d0624d",
   "metadata": {},
   "outputs": [
    {
     "name": "stdout",
     "output_type": "stream",
     "text": [
      "Scikit-learn version: 1.3.1\n"
     ]
    }
   ],
   "source": [
    "import sklearn\n",
    "print(\"Scikit-learn version:\", sklearn.__version__)"
   ]
  },
  {
   "cell_type": "code",
   "execution_count": 4,
   "id": "77aee90f",
   "metadata": {},
   "outputs": [],
   "source": [
    "df = pd.read_excel('customer_churn_large_dataset.xlsx')"
   ]
  },
  {
   "cell_type": "code",
   "execution_count": 5,
   "id": "3a7fe817",
   "metadata": {
    "scrolled": false
   },
   "outputs": [
    {
     "data": {
      "text/html": [
       "<div>\n",
       "<style scoped>\n",
       "    .dataframe tbody tr th:only-of-type {\n",
       "        vertical-align: middle;\n",
       "    }\n",
       "\n",
       "    .dataframe tbody tr th {\n",
       "        vertical-align: top;\n",
       "    }\n",
       "\n",
       "    .dataframe thead th {\n",
       "        text-align: right;\n",
       "    }\n",
       "</style>\n",
       "<table border=\"1\" class=\"dataframe\">\n",
       "  <thead>\n",
       "    <tr style=\"text-align: right;\">\n",
       "      <th></th>\n",
       "      <th>CustomerID</th>\n",
       "      <th>Name</th>\n",
       "      <th>Age</th>\n",
       "      <th>Gender</th>\n",
       "      <th>Location</th>\n",
       "      <th>Subscription_Length_Months</th>\n",
       "      <th>Monthly_Bill</th>\n",
       "      <th>Total_Usage_GB</th>\n",
       "      <th>Churn</th>\n",
       "    </tr>\n",
       "  </thead>\n",
       "  <tbody>\n",
       "    <tr>\n",
       "      <th>0</th>\n",
       "      <td>1</td>\n",
       "      <td>Customer_1</td>\n",
       "      <td>63</td>\n",
       "      <td>Male</td>\n",
       "      <td>Los Angeles</td>\n",
       "      <td>17</td>\n",
       "      <td>73.36</td>\n",
       "      <td>236</td>\n",
       "      <td>0</td>\n",
       "    </tr>\n",
       "    <tr>\n",
       "      <th>1</th>\n",
       "      <td>2</td>\n",
       "      <td>Customer_2</td>\n",
       "      <td>62</td>\n",
       "      <td>Female</td>\n",
       "      <td>New York</td>\n",
       "      <td>1</td>\n",
       "      <td>48.76</td>\n",
       "      <td>172</td>\n",
       "      <td>0</td>\n",
       "    </tr>\n",
       "    <tr>\n",
       "      <th>2</th>\n",
       "      <td>3</td>\n",
       "      <td>Customer_3</td>\n",
       "      <td>24</td>\n",
       "      <td>Female</td>\n",
       "      <td>Los Angeles</td>\n",
       "      <td>5</td>\n",
       "      <td>85.47</td>\n",
       "      <td>460</td>\n",
       "      <td>0</td>\n",
       "    </tr>\n",
       "    <tr>\n",
       "      <th>3</th>\n",
       "      <td>4</td>\n",
       "      <td>Customer_4</td>\n",
       "      <td>36</td>\n",
       "      <td>Female</td>\n",
       "      <td>Miami</td>\n",
       "      <td>3</td>\n",
       "      <td>97.94</td>\n",
       "      <td>297</td>\n",
       "      <td>1</td>\n",
       "    </tr>\n",
       "    <tr>\n",
       "      <th>4</th>\n",
       "      <td>5</td>\n",
       "      <td>Customer_5</td>\n",
       "      <td>46</td>\n",
       "      <td>Female</td>\n",
       "      <td>Miami</td>\n",
       "      <td>19</td>\n",
       "      <td>58.14</td>\n",
       "      <td>266</td>\n",
       "      <td>0</td>\n",
       "    </tr>\n",
       "  </tbody>\n",
       "</table>\n",
       "</div>"
      ],
      "text/plain": [
       "   CustomerID        Name  Age  Gender     Location  \\\n",
       "0           1  Customer_1   63    Male  Los Angeles   \n",
       "1           2  Customer_2   62  Female     New York   \n",
       "2           3  Customer_3   24  Female  Los Angeles   \n",
       "3           4  Customer_4   36  Female        Miami   \n",
       "4           5  Customer_5   46  Female        Miami   \n",
       "\n",
       "   Subscription_Length_Months  Monthly_Bill  Total_Usage_GB  Churn  \n",
       "0                          17         73.36             236      0  \n",
       "1                           1         48.76             172      0  \n",
       "2                           5         85.47             460      0  \n",
       "3                           3         97.94             297      1  \n",
       "4                          19         58.14             266      0  "
      ]
     },
     "execution_count": 5,
     "metadata": {},
     "output_type": "execute_result"
    }
   ],
   "source": [
    "df.head()"
   ]
  },
  {
   "cell_type": "code",
   "execution_count": 6,
   "id": "3297d512",
   "metadata": {},
   "outputs": [],
   "source": [
    "# CustomerID and Name doesnt add value hence dropping\n",
    "df.drop(['CustomerID','Name'],axis=1,inplace=True)"
   ]
  },
  {
   "cell_type": "code",
   "execution_count": 7,
   "id": "6c4b5636",
   "metadata": {},
   "outputs": [
    {
     "name": "stdout",
     "output_type": "stream",
     "text": [
      "No. of Rows = 100000 \n",
      "No. of Columns = 7\n"
     ]
    }
   ],
   "source": [
    "print('No. of Rows =',df.shape[0],'\\nNo. of Columns =',df.shape[1])"
   ]
  },
  {
   "cell_type": "code",
   "execution_count": 8,
   "id": "9f7f60f6",
   "metadata": {
    "scrolled": true
   },
   "outputs": [
    {
     "data": {
      "text/html": [
       "<div>\n",
       "<style scoped>\n",
       "    .dataframe tbody tr th:only-of-type {\n",
       "        vertical-align: middle;\n",
       "    }\n",
       "\n",
       "    .dataframe tbody tr th {\n",
       "        vertical-align: top;\n",
       "    }\n",
       "\n",
       "    .dataframe thead th {\n",
       "        text-align: right;\n",
       "    }\n",
       "</style>\n",
       "<table border=\"1\" class=\"dataframe\">\n",
       "  <thead>\n",
       "    <tr style=\"text-align: right;\">\n",
       "      <th></th>\n",
       "      <th>Age</th>\n",
       "      <th>Gender</th>\n",
       "      <th>Location</th>\n",
       "      <th>Subscription_Length_Months</th>\n",
       "      <th>Monthly_Bill</th>\n",
       "      <th>Total_Usage_GB</th>\n",
       "      <th>Churn</th>\n",
       "    </tr>\n",
       "  </thead>\n",
       "  <tbody>\n",
       "    <tr>\n",
       "      <th>0</th>\n",
       "      <td>63</td>\n",
       "      <td>Male</td>\n",
       "      <td>Los Angeles</td>\n",
       "      <td>17</td>\n",
       "      <td>73.36</td>\n",
       "      <td>236</td>\n",
       "      <td>0</td>\n",
       "    </tr>\n",
       "    <tr>\n",
       "      <th>1</th>\n",
       "      <td>62</td>\n",
       "      <td>Female</td>\n",
       "      <td>New York</td>\n",
       "      <td>1</td>\n",
       "      <td>48.76</td>\n",
       "      <td>172</td>\n",
       "      <td>0</td>\n",
       "    </tr>\n",
       "    <tr>\n",
       "      <th>2</th>\n",
       "      <td>24</td>\n",
       "      <td>Female</td>\n",
       "      <td>Los Angeles</td>\n",
       "      <td>5</td>\n",
       "      <td>85.47</td>\n",
       "      <td>460</td>\n",
       "      <td>0</td>\n",
       "    </tr>\n",
       "    <tr>\n",
       "      <th>3</th>\n",
       "      <td>36</td>\n",
       "      <td>Female</td>\n",
       "      <td>Miami</td>\n",
       "      <td>3</td>\n",
       "      <td>97.94</td>\n",
       "      <td>297</td>\n",
       "      <td>1</td>\n",
       "    </tr>\n",
       "    <tr>\n",
       "      <th>4</th>\n",
       "      <td>46</td>\n",
       "      <td>Female</td>\n",
       "      <td>Miami</td>\n",
       "      <td>19</td>\n",
       "      <td>58.14</td>\n",
       "      <td>266</td>\n",
       "      <td>0</td>\n",
       "    </tr>\n",
       "  </tbody>\n",
       "</table>\n",
       "</div>"
      ],
      "text/plain": [
       "   Age  Gender     Location  Subscription_Length_Months  Monthly_Bill  \\\n",
       "0   63    Male  Los Angeles                          17         73.36   \n",
       "1   62  Female     New York                           1         48.76   \n",
       "2   24  Female  Los Angeles                           5         85.47   \n",
       "3   36  Female        Miami                           3         97.94   \n",
       "4   46  Female        Miami                          19         58.14   \n",
       "\n",
       "   Total_Usage_GB  Churn  \n",
       "0             236      0  \n",
       "1             172      0  \n",
       "2             460      0  \n",
       "3             297      1  \n",
       "4             266      0  "
      ]
     },
     "execution_count": 8,
     "metadata": {},
     "output_type": "execute_result"
    }
   ],
   "source": [
    "df.head()"
   ]
  },
  {
   "cell_type": "code",
   "execution_count": 9,
   "id": "a92cee61",
   "metadata": {},
   "outputs": [
    {
     "data": {
      "text/plain": [
       "Age                             int64\n",
       "Gender                         object\n",
       "Location                       object\n",
       "Subscription_Length_Months      int64\n",
       "Monthly_Bill                  float64\n",
       "Total_Usage_GB                  int64\n",
       "Churn                           int64\n",
       "dtype: object"
      ]
     },
     "execution_count": 9,
     "metadata": {},
     "output_type": "execute_result"
    }
   ],
   "source": [
    "df.dtypes"
   ]
  },
  {
   "cell_type": "code",
   "execution_count": 10,
   "id": "3a2326f0",
   "metadata": {},
   "outputs": [
    {
     "data": {
      "text/plain": [
       "0    50221\n",
       "1    49779\n",
       "Name: Churn, dtype: int64"
      ]
     },
     "execution_count": 10,
     "metadata": {},
     "output_type": "execute_result"
    }
   ],
   "source": [
    "df['Churn'].value_counts()"
   ]
  },
  {
   "cell_type": "code",
   "execution_count": 11,
   "id": "36fc4101",
   "metadata": {},
   "outputs": [],
   "source": [
    "df_num = df.select_dtypes(include=np.number)"
   ]
  },
  {
   "cell_type": "code",
   "execution_count": 12,
   "id": "3b86bfbb",
   "metadata": {},
   "outputs": [
    {
     "data": {
      "text/html": [
       "<div>\n",
       "<style scoped>\n",
       "    .dataframe tbody tr th:only-of-type {\n",
       "        vertical-align: middle;\n",
       "    }\n",
       "\n",
       "    .dataframe tbody tr th {\n",
       "        vertical-align: top;\n",
       "    }\n",
       "\n",
       "    .dataframe thead th {\n",
       "        text-align: right;\n",
       "    }\n",
       "</style>\n",
       "<table border=\"1\" class=\"dataframe\">\n",
       "  <thead>\n",
       "    <tr style=\"text-align: right;\">\n",
       "      <th></th>\n",
       "      <th>Gender</th>\n",
       "      <th>Location</th>\n",
       "    </tr>\n",
       "  </thead>\n",
       "  <tbody>\n",
       "    <tr>\n",
       "      <th>count</th>\n",
       "      <td>100000</td>\n",
       "      <td>100000</td>\n",
       "    </tr>\n",
       "    <tr>\n",
       "      <th>unique</th>\n",
       "      <td>2</td>\n",
       "      <td>5</td>\n",
       "    </tr>\n",
       "    <tr>\n",
       "      <th>top</th>\n",
       "      <td>Female</td>\n",
       "      <td>Houston</td>\n",
       "    </tr>\n",
       "    <tr>\n",
       "      <th>freq</th>\n",
       "      <td>50216</td>\n",
       "      <td>20157</td>\n",
       "    </tr>\n",
       "  </tbody>\n",
       "</table>\n",
       "</div>"
      ],
      "text/plain": [
       "        Gender Location\n",
       "count   100000   100000\n",
       "unique       2        5\n",
       "top     Female  Houston\n",
       "freq     50216    20157"
      ]
     },
     "execution_count": 12,
     "metadata": {},
     "output_type": "execute_result"
    }
   ],
   "source": [
    "df.describe(include=object)"
   ]
  },
  {
   "cell_type": "code",
   "execution_count": 13,
   "id": "cf581829",
   "metadata": {},
   "outputs": [],
   "source": [
    "df_num.drop('Churn',axis = 1,inplace=True)"
   ]
  },
  {
   "cell_type": "code",
   "execution_count": 14,
   "id": "38042e4b",
   "metadata": {},
   "outputs": [
    {
     "data": {
      "text/html": [
       "<div>\n",
       "<style scoped>\n",
       "    .dataframe tbody tr th:only-of-type {\n",
       "        vertical-align: middle;\n",
       "    }\n",
       "\n",
       "    .dataframe tbody tr th {\n",
       "        vertical-align: top;\n",
       "    }\n",
       "\n",
       "    .dataframe thead th {\n",
       "        text-align: right;\n",
       "    }\n",
       "</style>\n",
       "<table border=\"1\" class=\"dataframe\">\n",
       "  <thead>\n",
       "    <tr style=\"text-align: right;\">\n",
       "      <th></th>\n",
       "      <th>Age</th>\n",
       "      <th>Subscription_Length_Months</th>\n",
       "      <th>Monthly_Bill</th>\n",
       "      <th>Total_Usage_GB</th>\n",
       "    </tr>\n",
       "  </thead>\n",
       "  <tbody>\n",
       "    <tr>\n",
       "      <th>0</th>\n",
       "      <td>63</td>\n",
       "      <td>17</td>\n",
       "      <td>73.36</td>\n",
       "      <td>236</td>\n",
       "    </tr>\n",
       "    <tr>\n",
       "      <th>1</th>\n",
       "      <td>62</td>\n",
       "      <td>1</td>\n",
       "      <td>48.76</td>\n",
       "      <td>172</td>\n",
       "    </tr>\n",
       "    <tr>\n",
       "      <th>2</th>\n",
       "      <td>24</td>\n",
       "      <td>5</td>\n",
       "      <td>85.47</td>\n",
       "      <td>460</td>\n",
       "    </tr>\n",
       "    <tr>\n",
       "      <th>3</th>\n",
       "      <td>36</td>\n",
       "      <td>3</td>\n",
       "      <td>97.94</td>\n",
       "      <td>297</td>\n",
       "    </tr>\n",
       "    <tr>\n",
       "      <th>4</th>\n",
       "      <td>46</td>\n",
       "      <td>19</td>\n",
       "      <td>58.14</td>\n",
       "      <td>266</td>\n",
       "    </tr>\n",
       "    <tr>\n",
       "      <th>...</th>\n",
       "      <td>...</td>\n",
       "      <td>...</td>\n",
       "      <td>...</td>\n",
       "      <td>...</td>\n",
       "    </tr>\n",
       "    <tr>\n",
       "      <th>99995</th>\n",
       "      <td>33</td>\n",
       "      <td>23</td>\n",
       "      <td>55.13</td>\n",
       "      <td>226</td>\n",
       "    </tr>\n",
       "    <tr>\n",
       "      <th>99996</th>\n",
       "      <td>62</td>\n",
       "      <td>19</td>\n",
       "      <td>61.65</td>\n",
       "      <td>351</td>\n",
       "    </tr>\n",
       "    <tr>\n",
       "      <th>99997</th>\n",
       "      <td>64</td>\n",
       "      <td>17</td>\n",
       "      <td>96.11</td>\n",
       "      <td>251</td>\n",
       "    </tr>\n",
       "    <tr>\n",
       "      <th>99998</th>\n",
       "      <td>51</td>\n",
       "      <td>20</td>\n",
       "      <td>49.25</td>\n",
       "      <td>434</td>\n",
       "    </tr>\n",
       "    <tr>\n",
       "      <th>99999</th>\n",
       "      <td>27</td>\n",
       "      <td>19</td>\n",
       "      <td>76.57</td>\n",
       "      <td>173</td>\n",
       "    </tr>\n",
       "  </tbody>\n",
       "</table>\n",
       "<p>100000 rows × 4 columns</p>\n",
       "</div>"
      ],
      "text/plain": [
       "       Age  Subscription_Length_Months  Monthly_Bill  Total_Usage_GB\n",
       "0       63                          17         73.36             236\n",
       "1       62                           1         48.76             172\n",
       "2       24                           5         85.47             460\n",
       "3       36                           3         97.94             297\n",
       "4       46                          19         58.14             266\n",
       "...    ...                         ...           ...             ...\n",
       "99995   33                          23         55.13             226\n",
       "99996   62                          19         61.65             351\n",
       "99997   64                          17         96.11             251\n",
       "99998   51                          20         49.25             434\n",
       "99999   27                          19         76.57             173\n",
       "\n",
       "[100000 rows x 4 columns]"
      ]
     },
     "execution_count": 14,
     "metadata": {},
     "output_type": "execute_result"
    }
   ],
   "source": [
    "df_num"
   ]
  },
  {
   "cell_type": "code",
   "execution_count": 15,
   "id": "bbc19190",
   "metadata": {},
   "outputs": [
    {
     "data": {
      "text/html": [
       "<div>\n",
       "<style scoped>\n",
       "    .dataframe tbody tr th:only-of-type {\n",
       "        vertical-align: middle;\n",
       "    }\n",
       "\n",
       "    .dataframe tbody tr th {\n",
       "        vertical-align: top;\n",
       "    }\n",
       "\n",
       "    .dataframe thead th {\n",
       "        text-align: right;\n",
       "    }\n",
       "</style>\n",
       "<table border=\"1\" class=\"dataframe\">\n",
       "  <thead>\n",
       "    <tr style=\"text-align: right;\">\n",
       "      <th></th>\n",
       "      <th>Age</th>\n",
       "      <th>Subscription_Length_Months</th>\n",
       "      <th>Monthly_Bill</th>\n",
       "      <th>Total_Usage_GB</th>\n",
       "      <th>Churn</th>\n",
       "    </tr>\n",
       "  </thead>\n",
       "  <tbody>\n",
       "    <tr>\n",
       "      <th>count</th>\n",
       "      <td>100000.000000</td>\n",
       "      <td>100000.000000</td>\n",
       "      <td>100000.000000</td>\n",
       "      <td>100000.000000</td>\n",
       "      <td>100000.000000</td>\n",
       "    </tr>\n",
       "    <tr>\n",
       "      <th>mean</th>\n",
       "      <td>44.027020</td>\n",
       "      <td>12.490100</td>\n",
       "      <td>65.053197</td>\n",
       "      <td>274.393650</td>\n",
       "      <td>0.497790</td>\n",
       "    </tr>\n",
       "    <tr>\n",
       "      <th>std</th>\n",
       "      <td>15.280283</td>\n",
       "      <td>6.926461</td>\n",
       "      <td>20.230696</td>\n",
       "      <td>130.463063</td>\n",
       "      <td>0.499998</td>\n",
       "    </tr>\n",
       "    <tr>\n",
       "      <th>min</th>\n",
       "      <td>18.000000</td>\n",
       "      <td>1.000000</td>\n",
       "      <td>30.000000</td>\n",
       "      <td>50.000000</td>\n",
       "      <td>0.000000</td>\n",
       "    </tr>\n",
       "    <tr>\n",
       "      <th>25%</th>\n",
       "      <td>31.000000</td>\n",
       "      <td>6.000000</td>\n",
       "      <td>47.540000</td>\n",
       "      <td>161.000000</td>\n",
       "      <td>0.000000</td>\n",
       "    </tr>\n",
       "    <tr>\n",
       "      <th>50%</th>\n",
       "      <td>44.000000</td>\n",
       "      <td>12.000000</td>\n",
       "      <td>65.010000</td>\n",
       "      <td>274.000000</td>\n",
       "      <td>0.000000</td>\n",
       "    </tr>\n",
       "    <tr>\n",
       "      <th>75%</th>\n",
       "      <td>57.000000</td>\n",
       "      <td>19.000000</td>\n",
       "      <td>82.640000</td>\n",
       "      <td>387.000000</td>\n",
       "      <td>1.000000</td>\n",
       "    </tr>\n",
       "    <tr>\n",
       "      <th>max</th>\n",
       "      <td>70.000000</td>\n",
       "      <td>24.000000</td>\n",
       "      <td>100.000000</td>\n",
       "      <td>500.000000</td>\n",
       "      <td>1.000000</td>\n",
       "    </tr>\n",
       "  </tbody>\n",
       "</table>\n",
       "</div>"
      ],
      "text/plain": [
       "                 Age  Subscription_Length_Months   Monthly_Bill  \\\n",
       "count  100000.000000               100000.000000  100000.000000   \n",
       "mean       44.027020                   12.490100      65.053197   \n",
       "std        15.280283                    6.926461      20.230696   \n",
       "min        18.000000                    1.000000      30.000000   \n",
       "25%        31.000000                    6.000000      47.540000   \n",
       "50%        44.000000                   12.000000      65.010000   \n",
       "75%        57.000000                   19.000000      82.640000   \n",
       "max        70.000000                   24.000000     100.000000   \n",
       "\n",
       "       Total_Usage_GB          Churn  \n",
       "count   100000.000000  100000.000000  \n",
       "mean       274.393650       0.497790  \n",
       "std        130.463063       0.499998  \n",
       "min         50.000000       0.000000  \n",
       "25%        161.000000       0.000000  \n",
       "50%        274.000000       0.000000  \n",
       "75%        387.000000       1.000000  \n",
       "max        500.000000       1.000000  "
      ]
     },
     "execution_count": 15,
     "metadata": {},
     "output_type": "execute_result"
    }
   ],
   "source": [
    "df.describe()"
   ]
  },
  {
   "cell_type": "code",
   "execution_count": 16,
   "id": "0c42e39d",
   "metadata": {},
   "outputs": [
    {
     "name": "stdout",
     "output_type": "stream",
     "text": [
      "<class 'pandas.core.frame.DataFrame'>\n",
      "RangeIndex: 100000 entries, 0 to 99999\n",
      "Data columns (total 7 columns):\n",
      " #   Column                      Non-Null Count   Dtype  \n",
      "---  ------                      --------------   -----  \n",
      " 0   Age                         100000 non-null  int64  \n",
      " 1   Gender                      100000 non-null  object \n",
      " 2   Location                    100000 non-null  object \n",
      " 3   Subscription_Length_Months  100000 non-null  int64  \n",
      " 4   Monthly_Bill                100000 non-null  float64\n",
      " 5   Total_Usage_GB              100000 non-null  int64  \n",
      " 6   Churn                       100000 non-null  int64  \n",
      "dtypes: float64(1), int64(4), object(2)\n",
      "memory usage: 5.3+ MB\n"
     ]
    }
   ],
   "source": [
    "df.info()"
   ]
  },
  {
   "cell_type": "markdown",
   "id": "f5e44ca1",
   "metadata": {},
   "source": [
    "# No null values"
   ]
  },
  {
   "cell_type": "code",
   "execution_count": 17,
   "id": "912ac014",
   "metadata": {
    "scrolled": false
   },
   "outputs": [
    {
     "data": {
      "text/plain": [
       "Age                           0\n",
       "Gender                        0\n",
       "Location                      0\n",
       "Subscription_Length_Months    0\n",
       "Monthly_Bill                  0\n",
       "Total_Usage_GB                0\n",
       "Churn                         0\n",
       "dtype: int64"
      ]
     },
     "execution_count": 17,
     "metadata": {},
     "output_type": "execute_result"
    }
   ],
   "source": [
    "df.isna().sum()"
   ]
  },
  {
   "cell_type": "code",
   "execution_count": 18,
   "id": "f3a21425",
   "metadata": {},
   "outputs": [],
   "source": [
    "# No null values"
   ]
  },
  {
   "cell_type": "markdown",
   "id": "175e14b3",
   "metadata": {},
   "source": [
    "# Outliers"
   ]
  },
  {
   "cell_type": "code",
   "execution_count": 19,
   "id": "fae57133",
   "metadata": {},
   "outputs": [],
   "source": [
    "numerical_columns =df_num.columns\n",
    "q1 = df[numerical_columns].quantile(0.25)\n",
    "q3 = df[numerical_columns].quantile(0.75)\n",
    "iqr= q3-q1\n",
    "ll = q1-(1.5*iqr)\n",
    "ul =q3 +(1.5*iqr)"
   ]
  },
  {
   "cell_type": "code",
   "execution_count": 20,
   "id": "29145b2a",
   "metadata": {},
   "outputs": [],
   "source": [
    "outliers = ((df[numerical_columns] < ll) | (df[numerical_columns] > ul)).any(axis=1)"
   ]
  },
  {
   "cell_type": "code",
   "execution_count": 21,
   "id": "fa661b93",
   "metadata": {},
   "outputs": [
    {
     "data": {
      "text/html": [
       "<div>\n",
       "<style scoped>\n",
       "    .dataframe tbody tr th:only-of-type {\n",
       "        vertical-align: middle;\n",
       "    }\n",
       "\n",
       "    .dataframe tbody tr th {\n",
       "        vertical-align: top;\n",
       "    }\n",
       "\n",
       "    .dataframe thead th {\n",
       "        text-align: right;\n",
       "    }\n",
       "</style>\n",
       "<table border=\"1\" class=\"dataframe\">\n",
       "  <thead>\n",
       "    <tr style=\"text-align: right;\">\n",
       "      <th></th>\n",
       "      <th>Age</th>\n",
       "      <th>Gender</th>\n",
       "      <th>Location</th>\n",
       "      <th>Subscription_Length_Months</th>\n",
       "      <th>Monthly_Bill</th>\n",
       "      <th>Total_Usage_GB</th>\n",
       "      <th>Churn</th>\n",
       "    </tr>\n",
       "  </thead>\n",
       "  <tbody>\n",
       "  </tbody>\n",
       "</table>\n",
       "</div>"
      ],
      "text/plain": [
       "Empty DataFrame\n",
       "Columns: [Age, Gender, Location, Subscription_Length_Months, Monthly_Bill, Total_Usage_GB, Churn]\n",
       "Index: []"
      ]
     },
     "execution_count": 21,
     "metadata": {},
     "output_type": "execute_result"
    }
   ],
   "source": [
    "df[outliers]"
   ]
  },
  {
   "cell_type": "code",
   "execution_count": 22,
   "id": "34c83c0e",
   "metadata": {},
   "outputs": [],
   "source": [
    "# No outliers"
   ]
  },
  {
   "cell_type": "markdown",
   "id": "c29e9940",
   "metadata": {},
   "source": [
    "# Correlation"
   ]
  },
  {
   "cell_type": "code",
   "execution_count": 23,
   "id": "f483b9c0",
   "metadata": {
    "scrolled": false
   },
   "outputs": [
    {
     "name": "stderr",
     "output_type": "stream",
     "text": [
      "C:\\Users\\Admin\\AppData\\Local\\Temp\\ipykernel_8632\\1834425532.py:2: FutureWarning: The default value of numeric_only in DataFrame.corr is deprecated. In a future version, it will default to False. Select only valid columns or specify the value of numeric_only to silence this warning.\n",
      "  sns.heatmap(df.corr(),annot=True)\n"
     ]
    },
    {
     "data": {
      "text/plain": [
       "<Axes: >"
      ]
     },
     "execution_count": 23,
     "metadata": {},
     "output_type": "execute_result"
    },
    {
     "data": {
      "image/png": "[encoded data removed]",
      "text/plain": [
       "<Figure size 800x600 with 2 Axes>"
      ]
     },
     "metadata": {},
     "output_type": "display_data"
    }
   ],
   "source": [
    "plt.figure(figsize=(8,6))\n",
    "sns.heatmap(df.corr(),annot=True)"
   ]
  },
  {
   "cell_type": "code",
   "execution_count": 24,
   "id": "0e98222c",
   "metadata": {},
   "outputs": [],
   "source": [
    "# By seeing above heatmap no feature is strongly correlated with target"
   ]
  },
  {
   "cell_type": "markdown",
   "id": "9416b998",
   "metadata": {},
   "source": [
    "# Univariate analysis"
   ]
  },
  {
   "cell_type": "code",
   "execution_count": 25,
   "id": "a5658e0c",
   "metadata": {},
   "outputs": [
    {
     "data": {
      "image/png": "[encoded data removed]",
      "text/plain": [
       "<Figure size 640x480 with 2 Axes>"
      ]
     },
     "metadata": {},
     "output_type": "display_data"
    }
   ],
   "source": [
    "plt.subplot(1,2,1)\n",
    "sns.countplot(df,x='Churn')\n",
    "plt.subplot(1,2,2)\n",
    "df['Churn'].value_counts().plot(kind='pie',autopct='%.2f%%')\n",
    "plt.tight_layout()\n",
    "plt.show()"
   ]
  },
  {
   "cell_type": "code",
   "execution_count": 26,
   "id": "0b80c5ee",
   "metadata": {},
   "outputs": [
    {
     "data": {
      "text/plain": [
       "0    50221\n",
       "1    49779\n",
       "Name: Churn, dtype: int64"
      ]
     },
     "execution_count": 26,
     "metadata": {},
     "output_type": "execute_result"
    }
   ],
   "source": [
    "df.Churn.value_counts()"
   ]
  },
  {
   "cell_type": "code",
   "execution_count": 27,
   "id": "48df64c9",
   "metadata": {},
   "outputs": [],
   "source": [
    "def kde(feature):\n",
    "    print(f'kde plot of {feature}:')\n",
    "    sns.kdeplot(data=df_num,x=i)\n",
    "    plt.show()\n",
    "    "
   ]
  },
  {
   "cell_type": "code",
   "execution_count": 28,
   "id": "272b1fc8",
   "metadata": {
    "scrolled": true
   },
   "outputs": [
    {
     "name": "stdout",
     "output_type": "stream",
     "text": [
      "kde plot of Age:\n"
     ]
    },
    {
     "data": {
      "image/png": "[encoded data removed]",
      "text/plain": [
       "<Figure size 640x480 with 1 Axes>"
      ]
     },
     "metadata": {},
     "output_type": "display_data"
    },
    {
     "name": "stdout",
     "output_type": "stream",
     "text": [
      "kde plot of Subscription_Length_Months:\n"
     ]
    },
    {
     "data": {
      "image/png": "[encoded data removed]",
      "text/plain": [
       "<Figure size 640x480 with 1 Axes>"
      ]
     },
     "metadata": {},
     "output_type": "display_data"
    },
    {
     "name": "stdout",
     "output_type": "stream",
     "text": [
      "kde plot of Monthly_Bill:\n"
     ]
    },
    {
     "data": {
      "image/png": "[encoded data removed]",
      "text/plain": [
       "<Figure size 640x480 with 1 Axes>"
      ]
     },
     "metadata": {},
     "output_type": "display_data"
    },
    {
     "name": "stdout",
     "output_type": "stream",
     "text": [
      "kde plot of Total_Usage_GB:\n"
     ]
    },
    {
     "data": {
      "image/png": "[encoded data removed]",
      "text/plain": [
       "<Figure size 640x480 with 1 Axes>"
      ]
     },
     "metadata": {},
     "output_type": "display_data"
    }
   ],
   "source": [
    "for i in df_num.columns:\n",
    "    kde(i)\n",
    "    "
   ]
  },
  {
   "cell_type": "code",
   "execution_count": 29,
   "id": "120fd047",
   "metadata": {},
   "outputs": [],
   "source": [
    "def box(feature):\n",
    "    print(f'box plot of {feature}:')\n",
    "    sns.boxplot(data=df_num,x=i)\n",
    "    plt.show()\n",
    "    "
   ]
  },
  {
   "cell_type": "code",
   "execution_count": 30,
   "id": "160c3f81",
   "metadata": {},
   "outputs": [
    {
     "name": "stdout",
     "output_type": "stream",
     "text": [
      "box plot of Age:\n"
     ]
    },
    {
     "data": {
      "image/png": "[encoded data removed]",
      "text/plain": [
       "<Figure size 640x480 with 1 Axes>"
      ]
     },
     "metadata": {},
     "output_type": "display_data"
    },
    {
     "name": "stdout",
     "output_type": "stream",
     "text": [
      "box plot of Subscription_Length_Months:\n"
     ]
    },
    {
     "data": {
      "image/png": "[encoded data removed]",
      "text/plain": [
       "<Figure size 640x480 with 1 Axes>"
      ]
     },
     "metadata": {},
     "output_type": "display_data"
    },
    {
     "name": "stdout",
     "output_type": "stream",
     "text": [
      "box plot of Monthly_Bill:\n"
     ]
    },
    {
     "data": {
      "image/png": "[encoded data removed]",
      "text/plain": [
       "<Figure size 640x480 with 1 Axes>"
      ]
     },
     "metadata": {},
     "output_type": "display_data"
    },
    {
     "name": "stdout",
     "output_type": "stream",
     "text": [
      "box plot of Total_Usage_GB:\n"
     ]
    },
    {
     "data": {
      "image/png": "[encoded data removed]",
      "text/plain": [
       "<Figure size 640x480 with 1 Axes>"
      ]
     },
     "metadata": {},
     "output_type": "display_data"
    }
   ],
   "source": [
    "for i in df_num.columns:\n",
    "    box(i)"
   ]
  },
  {
   "cell_type": "markdown",
   "id": "0122c158",
   "metadata": {},
   "source": [
    "# Bivariate analysis"
   ]
  },
  {
   "cell_type": "code",
   "execution_count": 31,
   "id": "f3e30850",
   "metadata": {},
   "outputs": [],
   "source": [
    "\n",
    "def box1(feature):\n",
    "    print(f'box plot of {feature}:')\n",
    "    sns.boxplot(data=df_num,x=df['Churn'],y=i)\n",
    "    plt.show()"
   ]
  },
  {
   "cell_type": "code",
   "execution_count": 32,
   "id": "dca38c85",
   "metadata": {
    "scrolled": true
   },
   "outputs": [
    {
     "name": "stdout",
     "output_type": "stream",
     "text": [
      "box plot of Age:\n"
     ]
    },
    {
     "data": {
      "image/png": "[encoded data removed]",
      "text/plain": [
       "<Figure size 640x480 with 1 Axes>"
      ]
     },
     "metadata": {},
     "output_type": "display_data"
    },
    {
     "name": "stdout",
     "output_type": "stream",
     "text": [
      "box plot of Subscription_Length_Months:\n"
     ]
    },
    {
     "data": {
      "image/png": "[encoded data removed]",
      "text/plain": [
       "<Figure size 640x480 with 1 Axes>"
      ]
     },
     "metadata": {},
     "output_type": "display_data"
    },
    {
     "name": "stdout",
     "output_type": "stream",
     "text": [
      "box plot of Monthly_Bill:\n"
     ]
    },
    {
     "data": {
      "image/png": "[encoded data removed]",
      "text/plain": [
       "<Figure size 640x480 with 1 Axes>"
      ]
     },
     "metadata": {},
     "output_type": "display_data"
    },
    {
     "name": "stdout",
     "output_type": "stream",
     "text": [
      "box plot of Total_Usage_GB:\n"
     ]
    },
    {
     "data": {
      "image/png": "[encoded data removed]",
      "text/plain": [
       "<Figure size 640x480 with 1 Axes>"
      ]
     },
     "metadata": {},
     "output_type": "display_data"
    }
   ],
   "source": [
    "for i in df_num.columns:\n",
    "    box1(i)"
   ]
  },
  {
   "cell_type": "markdown",
   "id": "1a079563",
   "metadata": {},
   "source": [
    "# Feature engineering"
   ]
  },
  {
   "cell_type": "code",
   "execution_count": 33,
   "id": "9eb970a9",
   "metadata": {},
   "outputs": [],
   "source": [
    "# Interaction effect \n",
    "# Age * Monthly_bill"
   ]
  },
  {
   "cell_type": "code",
   "execution_count": 34,
   "id": "2d8b55b8",
   "metadata": {},
   "outputs": [],
   "source": [
    "df['Agewise-monthly bill']= df['Age']*df['Monthly_Bill']"
   ]
  },
  {
   "cell_type": "code",
   "execution_count": 35,
   "id": "9018815f",
   "metadata": {},
   "outputs": [],
   "source": [
    "# Age*Subscription_Length_Months"
   ]
  },
  {
   "cell_type": "code",
   "execution_count": 36,
   "id": "5c6df2d8",
   "metadata": {},
   "outputs": [],
   "source": [
    "df['Agewise-subscriptionlength']=df['Age']*df['Subscription_Length_Months']"
   ]
  },
  {
   "cell_type": "code",
   "execution_count": 37,
   "id": "9ce9285b",
   "metadata": {},
   "outputs": [],
   "source": [
    "# Age*Total_Usage_GB"
   ]
  },
  {
   "cell_type": "code",
   "execution_count": 38,
   "id": "081d96da",
   "metadata": {},
   "outputs": [],
   "source": [
    "df['Age-Total_Usage_GB']=df['Age']*df['Total_Usage_GB']"
   ]
  },
  {
   "cell_type": "code",
   "execution_count": 39,
   "id": "a8fb7cf1",
   "metadata": {},
   "outputs": [],
   "source": [
    "# Monthly_Bill*12"
   ]
  },
  {
   "cell_type": "code",
   "execution_count": 40,
   "id": "d30294f2",
   "metadata": {},
   "outputs": [],
   "source": [
    "df['yearly_bill']= df['Monthly_Bill']*12"
   ]
  },
  {
   "cell_type": "code",
   "execution_count": 41,
   "id": "1defe8d3",
   "metadata": {},
   "outputs": [],
   "source": [
    "#  Usage per month Total_Usage_GB/Subscription_Length_Months"
   ]
  },
  {
   "cell_type": "code",
   "execution_count": 42,
   "id": "6d31c036",
   "metadata": {},
   "outputs": [],
   "source": [
    "df['Usage_per_month'] = df['Total_Usage_GB']/df['Subscription_Length_Months']"
   ]
  },
  {
   "cell_type": "code",
   "execution_count": 43,
   "id": "c41fd00c",
   "metadata": {},
   "outputs": [
    {
     "data": {
      "text/plain": [
       "count    100000.000000\n",
       "mean         44.027020\n",
       "std          15.280283\n",
       "min          18.000000\n",
       "25%          31.000000\n",
       "50%          44.000000\n",
       "75%          57.000000\n",
       "max          70.000000\n",
       "Name: Age, dtype: float64"
      ]
     },
     "execution_count": 43,
     "metadata": {},
     "output_type": "execute_result"
    }
   ],
   "source": [
    "df['Age'].describe()"
   ]
  },
  {
   "cell_type": "code",
   "execution_count": 44,
   "id": "33ac89e2",
   "metadata": {},
   "outputs": [],
   "source": [
    "#Creating age bins\n",
    "\n",
    "bins = [18, 25, 32, 39, 46, 53, 60, 70]\n",
    "labels = ['18-25', '26-32', '33-39', '40-46', '47-53', '54-60', '61-70']\n",
    "\n",
    "df['Age_Bin'] = pd.cut(df['Age'], bins=bins, labels=labels, right=False)"
   ]
  },
  {
   "cell_type": "code",
   "execution_count": 45,
   "id": "bf4ed26d",
   "metadata": {},
   "outputs": [
    {
     "data": {
      "text/plain": [
       "0        61-70\n",
       "1        61-70\n",
       "2        18-25\n",
       "3        33-39\n",
       "4        47-53\n",
       "         ...  \n",
       "99995    33-39\n",
       "99996    61-70\n",
       "99997    61-70\n",
       "99998    47-53\n",
       "99999    26-32\n",
       "Name: Age_Bin, Length: 100000, dtype: object"
      ]
     },
     "execution_count": 45,
     "metadata": {},
     "output_type": "execute_result"
    }
   ],
   "source": [
    "df.Age_Bin.astype(object)"
   ]
  },
  {
   "cell_type": "code",
   "execution_count": 46,
   "id": "73f5e31d",
   "metadata": {},
   "outputs": [
    {
     "data": {
      "text/plain": [
       "61-70    18798\n",
       "54-60    13309\n",
       "40-46    13241\n",
       "26-32    13211\n",
       "47-53    13210\n",
       "33-39    13197\n",
       "18-25    13113\n",
       "Name: Age_Bin, dtype: int64"
      ]
     },
     "execution_count": 46,
     "metadata": {},
     "output_type": "execute_result"
    }
   ],
   "source": [
    "df.Age_Bin.value_counts()"
   ]
  },
  {
   "cell_type": "code",
   "execution_count": 47,
   "id": "4fe1e7ac",
   "metadata": {},
   "outputs": [],
   "source": [
    "# For Age_bin (more than 2 groups) we perform kruskal test\n",
    "# H0: There are no significant differences between the distributions of the groups\n",
    "# Ha: There is at least one group with a different distribution"
   ]
  },
  {
   "cell_type": "code",
   "execution_count": 48,
   "id": "241b212d",
   "metadata": {
    "scrolled": true
   },
   "outputs": [],
   "source": [
    "# Perform the Kruskal-Wallis test\n",
    "group_1 = df[df['Age_Bin'] == '61-70']['Churn']\n",
    "group_2 = df[df['Age_Bin'] == '54-60']['Churn']\n",
    "group_3 = df[df['Age_Bin'] == '40-46']['Churn']\n",
    "group_4 = df[df['Age_Bin'] == '26-32']['Churn']\n",
    "group_5 = df[df['Age_Bin'] == '47-53']['Churn']\n",
    "group_6 = df[df['Age_Bin'] == '33-39']['Churn']\n",
    "group_7 = df[df['Age_Bin'] == '18-25']['Churn']\n",
    "p = kruskal(group_1,group_2,group_3,group_4,group_5,group_6,group_7)[1]"
   ]
  },
  {
   "cell_type": "code",
   "execution_count": 49,
   "id": "1e3f3b41",
   "metadata": {},
   "outputs": [
    {
     "data": {
      "text/plain": [
       "False"
      ]
     },
     "execution_count": 49,
     "metadata": {},
     "output_type": "execute_result"
    }
   ],
   "source": [
    "p<0.05"
   ]
  },
  {
   "cell_type": "code",
   "execution_count": 50,
   "id": "ad358225",
   "metadata": {},
   "outputs": [],
   "source": [
    "# As pvalue greater than 0.05 hence There are no significant differences between the distributions of the groups"
   ]
  },
  {
   "cell_type": "code",
   "execution_count": null,
   "id": "35cdc9f6",
   "metadata": {},
   "outputs": [],
   "source": [
    "\n"
   ]
  },
  {
   "cell_type": "code",
   "execution_count": null,
   "id": "d36b71c4",
   "metadata": {},
   "outputs": [],
   "source": []
  },
  {
   "cell_type": "code",
   "execution_count": 51,
   "id": "5377bb2c",
   "metadata": {},
   "outputs": [
    {
     "name": "stderr",
     "output_type": "stream",
     "text": [
      "C:\\Users\\Admin\\AppData\\Local\\Temp\\ipykernel_8632\\832035378.py:2: FutureWarning: The default value of numeric_only in DataFrame.corr is deprecated. In a future version, it will default to False. Select only valid columns or specify the value of numeric_only to silence this warning.\n",
      "  sns.heatmap(df.corr(),annot=True)\n"
     ]
    },
    {
     "data": {
      "text/plain": [
       "<Axes: >"
      ]
     },
     "execution_count": 51,
     "metadata": {},
     "output_type": "execute_result"
    },
    {
     "data": {
      "image/png": "[encoded data removed]",
      "text/plain": [
       "<Figure size 1500x800 with 2 Axes>"
      ]
     },
     "metadata": {},
     "output_type": "display_data"
    }
   ],
   "source": [
    "plt.figure(figsize=(15,8))\n",
    "sns.heatmap(df.corr(),annot=True)"
   ]
  },
  {
   "cell_type": "code",
   "execution_count": 52,
   "id": "501cb49c",
   "metadata": {},
   "outputs": [],
   "source": [
    "# As we can see correlation between Usage_per_month and churn is higher when compared with others verifying statistically"
   ]
  },
  {
   "cell_type": "code",
   "execution_count": 53,
   "id": "97d54771",
   "metadata": {},
   "outputs": [],
   "source": [
    "# Checking for normality\n",
    "# H0: Data is normally distributed\n",
    "# Ha: Data is not normally distributed"
   ]
  },
  {
   "cell_type": "code",
   "execution_count": 54,
   "id": "d6bc0715",
   "metadata": {},
   "outputs": [
    {
     "data": {
      "text/plain": [
       "0.0"
      ]
     },
     "execution_count": 54,
     "metadata": {},
     "output_type": "execute_result"
    }
   ],
   "source": [
    "jarque_bera(df['Usage_per_month'])[1]"
   ]
  },
  {
   "cell_type": "code",
   "execution_count": 55,
   "id": "5fd9f735",
   "metadata": {},
   "outputs": [],
   "source": [
    "# As pvalue greater than 0.05 data is not normal hence performing non parametric test spearmanr\n",
    "# H0: There is no monotonic relationship in the population\n",
    "# Ha: There is a significant monotonic relationship in the population"
   ]
  },
  {
   "cell_type": "code",
   "execution_count": 56,
   "id": "c17189ad",
   "metadata": {
    "scrolled": true
   },
   "outputs": [
    {
     "data": {
      "text/plain": [
       "0.35229164685563885"
      ]
     },
     "execution_count": 56,
     "metadata": {},
     "output_type": "execute_result"
    }
   ],
   "source": [
    "spearmanr(df['Usage_per_month'],df['Churn'])[1]"
   ]
  },
  {
   "cell_type": "code",
   "execution_count": 57,
   "id": "fb235aab",
   "metadata": {},
   "outputs": [],
   "source": [
    "# pvalue greater than 0.05 hence There is no monotonic relationship in the population\n"
   ]
  },
  {
   "cell_type": "markdown",
   "id": "c75448a4",
   "metadata": {},
   "source": [
    "# Normality test using jarquebera"
   ]
  },
  {
   "cell_type": "code",
   "execution_count": 58,
   "id": "9600abb8",
   "metadata": {},
   "outputs": [],
   "source": [
    "# H0: Data is normally distributed\n",
    "# Ha: Data is not normally distributed"
   ]
  },
  {
   "cell_type": "code",
   "execution_count": 59,
   "id": "497573ae",
   "metadata": {
    "scrolled": true
   },
   "outputs": [
    {
     "name": "stdout",
     "output_type": "stream",
     "text": [
      "pvalue of Age: 0.0\n",
      "pvalue of Subscription_Length_Months: 0.0\n",
      "pvalue of Monthly_Bill: 0.0\n",
      "pvalue of Total_Usage_GB: 0.0\n",
      "pvalue of Churn: 0.0\n",
      "pvalue of Agewise-monthly bill: 0.0\n",
      "pvalue of Agewise-subscriptionlength: 0.0\n",
      "pvalue of Age-Total_Usage_GB: 0.0\n",
      "pvalue of yearly_bill: 0.0\n",
      "pvalue of Usage_per_month: 0.0\n"
     ]
    }
   ],
   "source": [
    "for i in df.select_dtypes(include=np.number).columns:\n",
    "    print(f'pvalue of {i}: {jarque_bera(df[i])[1]}')\n",
    "    pvalues = {k:jarque_bera(df[k])[1] for k in df.select_dtypes(include=np.number).columns}"
   ]
  },
  {
   "cell_type": "code",
   "execution_count": 60,
   "id": "fc1803b6",
   "metadata": {},
   "outputs": [
    {
     "data": {
      "text/plain": [
       "{'Age': 0.0,\n",
       " 'Subscription_Length_Months': 0.0,\n",
       " 'Monthly_Bill': 0.0,\n",
       " 'Total_Usage_GB': 0.0,\n",
       " 'Churn': 0.0,\n",
       " 'Agewise-monthly bill': 0.0,\n",
       " 'Agewise-subscriptionlength': 0.0,\n",
       " 'Age-Total_Usage_GB': 0.0,\n",
       " 'yearly_bill': 0.0,\n",
       " 'Usage_per_month': 0.0}"
      ]
     },
     "execution_count": 60,
     "metadata": {},
     "output_type": "execute_result"
    }
   ],
   "source": [
    "pvalues"
   ]
  },
  {
   "cell_type": "code",
   "execution_count": 61,
   "id": "f7e70250",
   "metadata": {},
   "outputs": [],
   "source": [
    "# As pvalue<0.05 reject null hypothesis data is not normal"
   ]
  },
  {
   "cell_type": "markdown",
   "id": "8fe28898",
   "metadata": {},
   "source": [
    "# Tranformation"
   ]
  },
  {
   "cell_type": "code",
   "execution_count": 62,
   "id": "452e8e80",
   "metadata": {},
   "outputs": [],
   "source": [
    "# As data is not normal use box cox to transform"
   ]
  },
  {
   "cell_type": "code",
   "execution_count": 63,
   "id": "24f273b7",
   "metadata": {},
   "outputs": [],
   "source": [
    "for column in df_num.columns:\n",
    "    transformed_data, lambda_value = boxcox(df[column])\n",
    "    df_num[column + '_BoxCox'] = transformed_data"
   ]
  },
  {
   "cell_type": "code",
   "execution_count": 64,
   "id": "2b16232b",
   "metadata": {},
   "outputs": [],
   "source": [
    "df_num.drop(['Age','Subscription_Length_Months','Monthly_Bill','Total_Usage_GB'],axis=1,inplace=True)"
   ]
  },
  {
   "cell_type": "code",
   "execution_count": 65,
   "id": "c574b474",
   "metadata": {},
   "outputs": [
    {
     "data": {
      "text/html": [
       "<div>\n",
       "<style scoped>\n",
       "    .dataframe tbody tr th:only-of-type {\n",
       "        vertical-align: middle;\n",
       "    }\n",
       "\n",
       "    .dataframe tbody tr th {\n",
       "        vertical-align: top;\n",
       "    }\n",
       "\n",
       "    .dataframe thead th {\n",
       "        text-align: right;\n",
       "    }\n",
       "</style>\n",
       "<table border=\"1\" class=\"dataframe\">\n",
       "  <thead>\n",
       "    <tr style=\"text-align: right;\">\n",
       "      <th></th>\n",
       "      <th>Age_BoxCox</th>\n",
       "      <th>Subscription_Length_Months_BoxCox</th>\n",
       "      <th>Monthly_Bill_BoxCox</th>\n",
       "      <th>Total_Usage_GB_BoxCox</th>\n",
       "    </tr>\n",
       "  </thead>\n",
       "  <tbody>\n",
       "    <tr>\n",
       "      <th>0</th>\n",
       "      <td>28.536887</td>\n",
       "      <td>9.379739</td>\n",
       "      <td>31.691344</td>\n",
       "      <td>72.884957</td>\n",
       "    </tr>\n",
       "    <tr>\n",
       "      <th>1</th>\n",
       "      <td>28.180291</td>\n",
       "      <td>0.000000</td>\n",
       "      <td>23.014647</td>\n",
       "      <td>57.554879</td>\n",
       "    </tr>\n",
       "    <tr>\n",
       "      <th>2</th>\n",
       "      <td>13.142442</td>\n",
       "      <td>3.050958</td>\n",
       "      <td>35.679384</td>\n",
       "      <td>119.579306</td>\n",
       "    </tr>\n",
       "    <tr>\n",
       "      <th>3</th>\n",
       "      <td>18.291844</td>\n",
       "      <td>1.679711</td>\n",
       "      <td>39.638366</td>\n",
       "      <td>86.473918</td>\n",
       "    </tr>\n",
       "    <tr>\n",
       "      <th>4</th>\n",
       "      <td>22.256166</td>\n",
       "      <td>10.283332</td>\n",
       "      <td>26.430768</td>\n",
       "      <td>79.672941</td>\n",
       "    </tr>\n",
       "    <tr>\n",
       "      <th>...</th>\n",
       "      <td>...</td>\n",
       "      <td>...</td>\n",
       "      <td>...</td>\n",
       "      <td>...</td>\n",
       "    </tr>\n",
       "    <tr>\n",
       "      <th>99995</th>\n",
       "      <td>17.051080</td>\n",
       "      <td>12.016133</td>\n",
       "      <td>25.350949</td>\n",
       "      <td>70.571599</td>\n",
       "    </tr>\n",
       "    <tr>\n",
       "      <th>99996</th>\n",
       "      <td>28.180291</td>\n",
       "      <td>10.283332</td>\n",
       "      <td>27.672199</td>\n",
       "      <td>97.883627</td>\n",
       "    </tr>\n",
       "    <tr>\n",
       "      <th>99997</th>\n",
       "      <td>28.892074</td>\n",
       "      <td>9.379739</td>\n",
       "      <td>39.065776</td>\n",
       "      <td>76.306245</td>\n",
       "    </tr>\n",
       "    <tr>\n",
       "      <th>99998</th>\n",
       "      <td>24.155795</td>\n",
       "      <td>10.725232</td>\n",
       "      <td>23.197005</td>\n",
       "      <td>114.543030</td>\n",
       "    </tr>\n",
       "    <tr>\n",
       "      <th>99999</th>\n",
       "      <td>14.480456</td>\n",
       "      <td>10.283332</td>\n",
       "      <td>32.763745</td>\n",
       "      <td>57.805111</td>\n",
       "    </tr>\n",
       "  </tbody>\n",
       "</table>\n",
       "<p>100000 rows × 4 columns</p>\n",
       "</div>"
      ],
      "text/plain": [
       "       Age_BoxCox  Subscription_Length_Months_BoxCox  Monthly_Bill_BoxCox  \\\n",
       "0       28.536887                           9.379739            31.691344   \n",
       "1       28.180291                           0.000000            23.014647   \n",
       "2       13.142442                           3.050958            35.679384   \n",
       "3       18.291844                           1.679711            39.638366   \n",
       "4       22.256166                          10.283332            26.430768   \n",
       "...           ...                                ...                  ...   \n",
       "99995   17.051080                          12.016133            25.350949   \n",
       "99996   28.180291                          10.283332            27.672199   \n",
       "99997   28.892074                           9.379739            39.065776   \n",
       "99998   24.155795                          10.725232            23.197005   \n",
       "99999   14.480456                          10.283332            32.763745   \n",
       "\n",
       "       Total_Usage_GB_BoxCox  \n",
       "0                  72.884957  \n",
       "1                  57.554879  \n",
       "2                 119.579306  \n",
       "3                  86.473918  \n",
       "4                  79.672941  \n",
       "...                      ...  \n",
       "99995              70.571599  \n",
       "99996              97.883627  \n",
       "99997              76.306245  \n",
       "99998             114.543030  \n",
       "99999              57.805111  \n",
       "\n",
       "[100000 rows x 4 columns]"
      ]
     },
     "execution_count": 65,
     "metadata": {},
     "output_type": "execute_result"
    }
   ],
   "source": [
    "df_num"
   ]
  },
  {
   "cell_type": "markdown",
   "id": "22376c17",
   "metadata": {},
   "source": [
    "# Statistical test for numeric features"
   ]
  },
  {
   "cell_type": "code",
   "execution_count": 66,
   "id": "d3278fc1",
   "metadata": {},
   "outputs": [],
   "source": [
    "# As data is not normal to check relation between numeric vs numeric columns we perform spearmanr test"
   ]
  },
  {
   "cell_type": "code",
   "execution_count": 67,
   "id": "bb103e3a",
   "metadata": {},
   "outputs": [],
   "source": [
    "# H0: There is no monotonic relationship in the population\n",
    "# Ha: There is a significant monotonic relationship in the population"
   ]
  },
  {
   "cell_type": "code",
   "execution_count": 68,
   "id": "fe476bcd",
   "metadata": {},
   "outputs": [
    {
     "name": "stdout",
     "output_type": "stream",
     "text": [
      "pvalue of Age_BoxCox: 0.6229944425908982\n",
      "pvalue of Subscription_Length_Months_BoxCox: 0.46132931265373367\n",
      "pvalue of Monthly_Bill_BoxCox: 0.9513598874396686\n",
      "pvalue of Total_Usage_GB_BoxCox: 0.3671600506876552\n"
     ]
    }
   ],
   "source": [
    "for i in df_num.columns:\n",
    "    print(f'pvalue of {i}: {spearmanr(df_num[i], df[\"Churn\"])[1]}')\n",
    "    pvalues_num = {k:spearmanr(df_num[k], df[\"Churn\"])[1] for k in df_num.columns}"
   ]
  },
  {
   "cell_type": "code",
   "execution_count": 69,
   "id": "4ab9f419",
   "metadata": {},
   "outputs": [
    {
     "data": {
      "text/plain": [
       "{'Age_BoxCox': 0.6229944425908982,\n",
       " 'Subscription_Length_Months_BoxCox': 0.46132931265373367,\n",
       " 'Monthly_Bill_BoxCox': 0.9513598874396686,\n",
       " 'Total_Usage_GB_BoxCox': 0.3671600506876552}"
      ]
     },
     "execution_count": 69,
     "metadata": {},
     "output_type": "execute_result"
    }
   ],
   "source": [
    "pvalues_num"
   ]
  },
  {
   "cell_type": "code",
   "execution_count": 70,
   "id": "f0e45b96",
   "metadata": {},
   "outputs": [],
   "source": [
    "# AS pvalues greater than 0.05 failed to reject null hypothesis there is no significant relation between feature and target"
   ]
  },
  {
   "cell_type": "markdown",
   "id": "ae274044",
   "metadata": {},
   "source": [
    "# Statistical test for categorical feature"
   ]
  },
  {
   "cell_type": "code",
   "execution_count": 71,
   "id": "cbcc5837",
   "metadata": {},
   "outputs": [],
   "source": [
    "# For gender(2 groups) we perform mannwhitneyu test\n"
   ]
  },
  {
   "cell_type": "code",
   "execution_count": 72,
   "id": "2a16aef2",
   "metadata": {},
   "outputs": [],
   "source": [
    "# H0: There is no difference between the distributions of the two independent samples\n",
    "# Ha: There is a difference between the distributions of the two independent samples"
   ]
  },
  {
   "cell_type": "code",
   "execution_count": 73,
   "id": "faa563b3",
   "metadata": {},
   "outputs": [],
   "source": [
    "group_A = df[df['Gender'] == 'Male']['Churn']\n",
    "group_B = df[df['Gender'] == 'Female']['Churn']\n",
    "\n",
    "# Perform the Mann-Whitney U test\n",
    "p_value_mannwhitneyu = mannwhitneyu(group_A, group_B)[1]"
   ]
  },
  {
   "cell_type": "code",
   "execution_count": 74,
   "id": "023bb6a6",
   "metadata": {},
   "outputs": [
    {
     "data": {
      "text/plain": [
       "False"
      ]
     },
     "execution_count": 74,
     "metadata": {},
     "output_type": "execute_result"
    }
   ],
   "source": [
    "p_value_mannwhitneyu < 0.05"
   ]
  },
  {
   "cell_type": "code",
   "execution_count": 75,
   "id": "7e1e3272",
   "metadata": {},
   "outputs": [],
   "source": [
    "# Failed to reject null hypothesis hence There is no difference between the distributions of the two independent samples"
   ]
  },
  {
   "cell_type": "code",
   "execution_count": 76,
   "id": "ed734575",
   "metadata": {},
   "outputs": [],
   "source": [
    "# For Location (more than 2 groups) we perform kruskal test"
   ]
  },
  {
   "cell_type": "code",
   "execution_count": 77,
   "id": "79153937",
   "metadata": {},
   "outputs": [],
   "source": [
    "# H0: There are no significant differences between the distributions of the groups\n",
    "# Ha: There is at least one group with a different distribution"
   ]
  },
  {
   "cell_type": "code",
   "execution_count": 78,
   "id": "fc51ebd9",
   "metadata": {},
   "outputs": [
    {
     "name": "stdout",
     "output_type": "stream",
     "text": [
      "Kruskal-Wallis H-statistic: 10.404066064700373\n",
      "p-value: 0.03414442742604259\n"
     ]
    }
   ],
   "source": [
    "# Perform the Kruskal-Wallis test\n",
    "grouped_data = [df['Churn'][df['Location'] == location] for location in df['Location'].unique()]\n",
    "H, p_value_kruskal = kruskal(*grouped_data)\n",
    "\n",
    "# Output the Kruskal-Wallis results\n",
    "print(\"Kruskal-Wallis H-statistic:\", H)\n",
    "print(\"p-value:\", p_value_kruskal)\n",
    "\n"
   ]
  },
  {
   "cell_type": "code",
   "execution_count": 79,
   "id": "1a137ed6",
   "metadata": {},
   "outputs": [
    {
     "data": {
      "text/plain": [
       "True"
      ]
     },
     "execution_count": 79,
     "metadata": {},
     "output_type": "execute_result"
    }
   ],
   "source": [
    "p_value_kruskal<0.05"
   ]
  },
  {
   "cell_type": "code",
   "execution_count": 80,
   "id": "97e733d9",
   "metadata": {},
   "outputs": [],
   "source": [
    "# As pvalue < 0.05 we reject null hypothesis hence There is at least one group with a different distribution"
   ]
  },
  {
   "cell_type": "markdown",
   "id": "4ca1b109",
   "metadata": {},
   "source": [
    "# Scaling"
   ]
  },
  {
   "cell_type": "code",
   "execution_count": 81,
   "id": "5f380719",
   "metadata": {},
   "outputs": [
    {
     "data": {
      "text/html": [
       "<div>\n",
       "<style scoped>\n",
       "    .dataframe tbody tr th:only-of-type {\n",
       "        vertical-align: middle;\n",
       "    }\n",
       "\n",
       "    .dataframe tbody tr th {\n",
       "        vertical-align: top;\n",
       "    }\n",
       "\n",
       "    .dataframe thead th {\n",
       "        text-align: right;\n",
       "    }\n",
       "</style>\n",
       "<table border=\"1\" class=\"dataframe\">\n",
       "  <thead>\n",
       "    <tr style=\"text-align: right;\">\n",
       "      <th></th>\n",
       "      <th>Age_BoxCox</th>\n",
       "      <th>Subscription_Length_Months_BoxCox</th>\n",
       "      <th>Monthly_Bill_BoxCox</th>\n",
       "      <th>Total_Usage_GB_BoxCox</th>\n",
       "    </tr>\n",
       "  </thead>\n",
       "  <tbody>\n",
       "    <tr>\n",
       "      <th>0</th>\n",
       "      <td>1.214006</td>\n",
       "      <td>0.680706</td>\n",
       "      <td>0.440831</td>\n",
       "      <td>-0.221197</td>\n",
       "    </tr>\n",
       "    <tr>\n",
       "      <th>1</th>\n",
       "      <td>1.154839</td>\n",
       "      <td>-1.898801</td>\n",
       "      <td>-0.784410</td>\n",
       "      <td>-0.737289</td>\n",
       "    </tr>\n",
       "    <tr>\n",
       "      <th>2</th>\n",
       "      <td>-1.340286</td>\n",
       "      <td>-1.059762</td>\n",
       "      <td>1.003984</td>\n",
       "      <td>1.350784</td>\n",
       "    </tr>\n",
       "    <tr>\n",
       "      <th>3</th>\n",
       "      <td>-0.485882</td>\n",
       "      <td>-1.436867</td>\n",
       "      <td>1.563034</td>\n",
       "      <td>0.236280</td>\n",
       "    </tr>\n",
       "    <tr>\n",
       "      <th>4</th>\n",
       "      <td>0.171890</td>\n",
       "      <td>0.929202</td>\n",
       "      <td>-0.302018</td>\n",
       "      <td>0.007322</td>\n",
       "    </tr>\n",
       "    <tr>\n",
       "      <th>...</th>\n",
       "      <td>...</td>\n",
       "      <td>...</td>\n",
       "      <td>...</td>\n",
       "      <td>...</td>\n",
       "    </tr>\n",
       "    <tr>\n",
       "      <th>99995</th>\n",
       "      <td>-0.691753</td>\n",
       "      <td>1.405737</td>\n",
       "      <td>-0.454500</td>\n",
       "      <td>-0.299077</td>\n",
       "    </tr>\n",
       "    <tr>\n",
       "      <th>99996</th>\n",
       "      <td>1.154839</td>\n",
       "      <td>0.929202</td>\n",
       "      <td>-0.126715</td>\n",
       "      <td>0.620391</td>\n",
       "    </tr>\n",
       "    <tr>\n",
       "      <th>99997</th>\n",
       "      <td>1.272940</td>\n",
       "      <td>0.680706</td>\n",
       "      <td>1.482178</td>\n",
       "      <td>-0.106018</td>\n",
       "    </tr>\n",
       "    <tr>\n",
       "      <th>99998</th>\n",
       "      <td>0.487082</td>\n",
       "      <td>1.050728</td>\n",
       "      <td>-0.758659</td>\n",
       "      <td>1.181236</td>\n",
       "    </tr>\n",
       "    <tr>\n",
       "      <th>99999</th>\n",
       "      <td>-1.118279</td>\n",
       "      <td>0.929202</td>\n",
       "      <td>0.592265</td>\n",
       "      <td>-0.728865</td>\n",
       "    </tr>\n",
       "  </tbody>\n",
       "</table>\n",
       "<p>100000 rows × 4 columns</p>\n",
       "</div>"
      ],
      "text/plain": [
       "       Age_BoxCox  Subscription_Length_Months_BoxCox  Monthly_Bill_BoxCox  \\\n",
       "0        1.214006                           0.680706             0.440831   \n",
       "1        1.154839                          -1.898801            -0.784410   \n",
       "2       -1.340286                          -1.059762             1.003984   \n",
       "3       -0.485882                          -1.436867             1.563034   \n",
       "4        0.171890                           0.929202            -0.302018   \n",
       "...           ...                                ...                  ...   \n",
       "99995   -0.691753                           1.405737            -0.454500   \n",
       "99996    1.154839                           0.929202            -0.126715   \n",
       "99997    1.272940                           0.680706             1.482178   \n",
       "99998    0.487082                           1.050728            -0.758659   \n",
       "99999   -1.118279                           0.929202             0.592265   \n",
       "\n",
       "       Total_Usage_GB_BoxCox  \n",
       "0                  -0.221197  \n",
       "1                  -0.737289  \n",
       "2                   1.350784  \n",
       "3                   0.236280  \n",
       "4                   0.007322  \n",
       "...                      ...  \n",
       "99995              -0.299077  \n",
       "99996               0.620391  \n",
       "99997              -0.106018  \n",
       "99998               1.181236  \n",
       "99999              -0.728865  \n",
       "\n",
       "[100000 rows x 4 columns]"
      ]
     },
     "execution_count": 81,
     "metadata": {},
     "output_type": "execute_result"
    }
   ],
   "source": [
    "ss = StandardScaler()\n",
    "scaled_data = pd.DataFrame(ss.fit_transform(df_num),columns=df_num.columns).reset_index(drop=True)\n",
    "scaled_data"
   ]
  },
  {
   "cell_type": "markdown",
   "id": "59bd8806",
   "metadata": {},
   "source": [
    "# Encoding"
   ]
  },
  {
   "cell_type": "code",
   "execution_count": 82,
   "id": "19c0c540",
   "metadata": {},
   "outputs": [],
   "source": [
    "encoded_cat = pd.get_dummies(df.select_dtypes(exclude=np.number),drop_first=True)"
   ]
  },
  {
   "cell_type": "code",
   "execution_count": 83,
   "id": "0560b9af",
   "metadata": {
    "scrolled": true
   },
   "outputs": [
    {
     "data": {
      "text/html": [
       "<div>\n",
       "<style scoped>\n",
       "    .dataframe tbody tr th:only-of-type {\n",
       "        vertical-align: middle;\n",
       "    }\n",
       "\n",
       "    .dataframe tbody tr th {\n",
       "        vertical-align: top;\n",
       "    }\n",
       "\n",
       "    .dataframe thead th {\n",
       "        text-align: right;\n",
       "    }\n",
       "</style>\n",
       "<table border=\"1\" class=\"dataframe\">\n",
       "  <thead>\n",
       "    <tr style=\"text-align: right;\">\n",
       "      <th></th>\n",
       "      <th>Gender_Male</th>\n",
       "      <th>Location_Houston</th>\n",
       "      <th>Location_Los Angeles</th>\n",
       "      <th>Location_Miami</th>\n",
       "      <th>Location_New York</th>\n",
       "      <th>Age_Bin_26-32</th>\n",
       "      <th>Age_Bin_33-39</th>\n",
       "      <th>Age_Bin_40-46</th>\n",
       "      <th>Age_Bin_47-53</th>\n",
       "      <th>Age_Bin_54-60</th>\n",
       "      <th>Age_Bin_61-70</th>\n",
       "    </tr>\n",
       "  </thead>\n",
       "  <tbody>\n",
       "    <tr>\n",
       "      <th>0</th>\n",
       "      <td>1</td>\n",
       "      <td>0</td>\n",
       "      <td>1</td>\n",
       "      <td>0</td>\n",
       "      <td>0</td>\n",
       "      <td>0</td>\n",
       "      <td>0</td>\n",
       "      <td>0</td>\n",
       "      <td>0</td>\n",
       "      <td>0</td>\n",
       "      <td>1</td>\n",
       "    </tr>\n",
       "    <tr>\n",
       "      <th>1</th>\n",
       "      <td>0</td>\n",
       "      <td>0</td>\n",
       "      <td>0</td>\n",
       "      <td>0</td>\n",
       "      <td>1</td>\n",
       "      <td>0</td>\n",
       "      <td>0</td>\n",
       "      <td>0</td>\n",
       "      <td>0</td>\n",
       "      <td>0</td>\n",
       "      <td>1</td>\n",
       "    </tr>\n",
       "    <tr>\n",
       "      <th>2</th>\n",
       "      <td>0</td>\n",
       "      <td>0</td>\n",
       "      <td>1</td>\n",
       "      <td>0</td>\n",
       "      <td>0</td>\n",
       "      <td>0</td>\n",
       "      <td>0</td>\n",
       "      <td>0</td>\n",
       "      <td>0</td>\n",
       "      <td>0</td>\n",
       "      <td>0</td>\n",
       "    </tr>\n",
       "    <tr>\n",
       "      <th>3</th>\n",
       "      <td>0</td>\n",
       "      <td>0</td>\n",
       "      <td>0</td>\n",
       "      <td>1</td>\n",
       "      <td>0</td>\n",
       "      <td>0</td>\n",
       "      <td>1</td>\n",
       "      <td>0</td>\n",
       "      <td>0</td>\n",
       "      <td>0</td>\n",
       "      <td>0</td>\n",
       "    </tr>\n",
       "    <tr>\n",
       "      <th>4</th>\n",
       "      <td>0</td>\n",
       "      <td>0</td>\n",
       "      <td>0</td>\n",
       "      <td>1</td>\n",
       "      <td>0</td>\n",
       "      <td>0</td>\n",
       "      <td>0</td>\n",
       "      <td>0</td>\n",
       "      <td>1</td>\n",
       "      <td>0</td>\n",
       "      <td>0</td>\n",
       "    </tr>\n",
       "    <tr>\n",
       "      <th>...</th>\n",
       "      <td>...</td>\n",
       "      <td>...</td>\n",
       "      <td>...</td>\n",
       "      <td>...</td>\n",
       "      <td>...</td>\n",
       "      <td>...</td>\n",
       "      <td>...</td>\n",
       "      <td>...</td>\n",
       "      <td>...</td>\n",
       "      <td>...</td>\n",
       "      <td>...</td>\n",
       "    </tr>\n",
       "    <tr>\n",
       "      <th>99995</th>\n",
       "      <td>1</td>\n",
       "      <td>1</td>\n",
       "      <td>0</td>\n",
       "      <td>0</td>\n",
       "      <td>0</td>\n",
       "      <td>0</td>\n",
       "      <td>1</td>\n",
       "      <td>0</td>\n",
       "      <td>0</td>\n",
       "      <td>0</td>\n",
       "      <td>0</td>\n",
       "    </tr>\n",
       "    <tr>\n",
       "      <th>99996</th>\n",
       "      <td>0</td>\n",
       "      <td>0</td>\n",
       "      <td>0</td>\n",
       "      <td>0</td>\n",
       "      <td>1</td>\n",
       "      <td>0</td>\n",
       "      <td>0</td>\n",
       "      <td>0</td>\n",
       "      <td>0</td>\n",
       "      <td>0</td>\n",
       "      <td>1</td>\n",
       "    </tr>\n",
       "    <tr>\n",
       "      <th>99997</th>\n",
       "      <td>1</td>\n",
       "      <td>0</td>\n",
       "      <td>0</td>\n",
       "      <td>0</td>\n",
       "      <td>0</td>\n",
       "      <td>0</td>\n",
       "      <td>0</td>\n",
       "      <td>0</td>\n",
       "      <td>0</td>\n",
       "      <td>0</td>\n",
       "      <td>1</td>\n",
       "    </tr>\n",
       "    <tr>\n",
       "      <th>99998</th>\n",
       "      <td>0</td>\n",
       "      <td>0</td>\n",
       "      <td>0</td>\n",
       "      <td>0</td>\n",
       "      <td>1</td>\n",
       "      <td>0</td>\n",
       "      <td>0</td>\n",
       "      <td>0</td>\n",
       "      <td>1</td>\n",
       "      <td>0</td>\n",
       "      <td>0</td>\n",
       "    </tr>\n",
       "    <tr>\n",
       "      <th>99999</th>\n",
       "      <td>0</td>\n",
       "      <td>0</td>\n",
       "      <td>1</td>\n",
       "      <td>0</td>\n",
       "      <td>0</td>\n",
       "      <td>1</td>\n",
       "      <td>0</td>\n",
       "      <td>0</td>\n",
       "      <td>0</td>\n",
       "      <td>0</td>\n",
       "      <td>0</td>\n",
       "    </tr>\n",
       "  </tbody>\n",
       "</table>\n",
       "<p>100000 rows × 11 columns</p>\n",
       "</div>"
      ],
      "text/plain": [
       "       Gender_Male  Location_Houston  Location_Los Angeles  Location_Miami  \\\n",
       "0                1                 0                     1               0   \n",
       "1                0                 0                     0               0   \n",
       "2                0                 0                     1               0   \n",
       "3                0                 0                     0               1   \n",
       "4                0                 0                     0               1   \n",
       "...            ...               ...                   ...             ...   \n",
       "99995            1                 1                     0               0   \n",
       "99996            0                 0                     0               0   \n",
       "99997            1                 0                     0               0   \n",
       "99998            0                 0                     0               0   \n",
       "99999            0                 0                     1               0   \n",
       "\n",
       "       Location_New York  Age_Bin_26-32  Age_Bin_33-39  Age_Bin_40-46  \\\n",
       "0                      0              0              0              0   \n",
       "1                      1              0              0              0   \n",
       "2                      0              0              0              0   \n",
       "3                      0              0              1              0   \n",
       "4                      0              0              0              0   \n",
       "...                  ...            ...            ...            ...   \n",
       "99995                  0              0              1              0   \n",
       "99996                  1              0              0              0   \n",
       "99997                  0              0              0              0   \n",
       "99998                  1              0              0              0   \n",
       "99999                  0              1              0              0   \n",
       "\n",
       "       Age_Bin_47-53  Age_Bin_54-60  Age_Bin_61-70  \n",
       "0                  0              0              1  \n",
       "1                  0              0              1  \n",
       "2                  0              0              0  \n",
       "3                  0              0              0  \n",
       "4                  1              0              0  \n",
       "...              ...            ...            ...  \n",
       "99995              0              0              0  \n",
       "99996              0              0              1  \n",
       "99997              0              0              1  \n",
       "99998              1              0              0  \n",
       "99999              0              0              0  \n",
       "\n",
       "[100000 rows x 11 columns]"
      ]
     },
     "execution_count": 83,
     "metadata": {},
     "output_type": "execute_result"
    }
   ],
   "source": [
    "encoded_cat"
   ]
  },
  {
   "cell_type": "code",
   "execution_count": 84,
   "id": "8de04509",
   "metadata": {},
   "outputs": [],
   "source": [
    "x= pd.concat([scaled_data,encoded_cat],axis=1)\n",
    "y= df['Churn']"
   ]
  },
  {
   "cell_type": "code",
   "execution_count": 85,
   "id": "e3c64114",
   "metadata": {},
   "outputs": [
    {
     "data": {
      "text/html": [
       "<div>\n",
       "<style scoped>\n",
       "    .dataframe tbody tr th:only-of-type {\n",
       "        vertical-align: middle;\n",
       "    }\n",
       "\n",
       "    .dataframe tbody tr th {\n",
       "        vertical-align: top;\n",
       "    }\n",
       "\n",
       "    .dataframe thead th {\n",
       "        text-align: right;\n",
       "    }\n",
       "</style>\n",
       "<table border=\"1\" class=\"dataframe\">\n",
       "  <thead>\n",
       "    <tr style=\"text-align: right;\">\n",
       "      <th></th>\n",
       "      <th>Age_BoxCox</th>\n",
       "      <th>Subscription_Length_Months_BoxCox</th>\n",
       "      <th>Monthly_Bill_BoxCox</th>\n",
       "      <th>Total_Usage_GB_BoxCox</th>\n",
       "      <th>Gender_Male</th>\n",
       "      <th>Location_Houston</th>\n",
       "      <th>Location_Los Angeles</th>\n",
       "      <th>Location_Miami</th>\n",
       "      <th>Location_New York</th>\n",
       "      <th>Age_Bin_26-32</th>\n",
       "      <th>Age_Bin_33-39</th>\n",
       "      <th>Age_Bin_40-46</th>\n",
       "      <th>Age_Bin_47-53</th>\n",
       "      <th>Age_Bin_54-60</th>\n",
       "      <th>Age_Bin_61-70</th>\n",
       "    </tr>\n",
       "  </thead>\n",
       "  <tbody>\n",
       "    <tr>\n",
       "      <th>0</th>\n",
       "      <td>1.214006</td>\n",
       "      <td>0.680706</td>\n",
       "      <td>0.440831</td>\n",
       "      <td>-0.221197</td>\n",
       "      <td>1</td>\n",
       "      <td>0</td>\n",
       "      <td>1</td>\n",
       "      <td>0</td>\n",
       "      <td>0</td>\n",
       "      <td>0</td>\n",
       "      <td>0</td>\n",
       "      <td>0</td>\n",
       "      <td>0</td>\n",
       "      <td>0</td>\n",
       "      <td>1</td>\n",
       "    </tr>\n",
       "    <tr>\n",
       "      <th>1</th>\n",
       "      <td>1.154839</td>\n",
       "      <td>-1.898801</td>\n",
       "      <td>-0.784410</td>\n",
       "      <td>-0.737289</td>\n",
       "      <td>0</td>\n",
       "      <td>0</td>\n",
       "      <td>0</td>\n",
       "      <td>0</td>\n",
       "      <td>1</td>\n",
       "      <td>0</td>\n",
       "      <td>0</td>\n",
       "      <td>0</td>\n",
       "      <td>0</td>\n",
       "      <td>0</td>\n",
       "      <td>1</td>\n",
       "    </tr>\n",
       "    <tr>\n",
       "      <th>2</th>\n",
       "      <td>-1.340286</td>\n",
       "      <td>-1.059762</td>\n",
       "      <td>1.003984</td>\n",
       "      <td>1.350784</td>\n",
       "      <td>0</td>\n",
       "      <td>0</td>\n",
       "      <td>1</td>\n",
       "      <td>0</td>\n",
       "      <td>0</td>\n",
       "      <td>0</td>\n",
       "      <td>0</td>\n",
       "      <td>0</td>\n",
       "      <td>0</td>\n",
       "      <td>0</td>\n",
       "      <td>0</td>\n",
       "    </tr>\n",
       "    <tr>\n",
       "      <th>3</th>\n",
       "      <td>-0.485882</td>\n",
       "      <td>-1.436867</td>\n",
       "      <td>1.563034</td>\n",
       "      <td>0.236280</td>\n",
       "      <td>0</td>\n",
       "      <td>0</td>\n",
       "      <td>0</td>\n",
       "      <td>1</td>\n",
       "      <td>0</td>\n",
       "      <td>0</td>\n",
       "      <td>1</td>\n",
       "      <td>0</td>\n",
       "      <td>0</td>\n",
       "      <td>0</td>\n",
       "      <td>0</td>\n",
       "    </tr>\n",
       "    <tr>\n",
       "      <th>4</th>\n",
       "      <td>0.171890</td>\n",
       "      <td>0.929202</td>\n",
       "      <td>-0.302018</td>\n",
       "      <td>0.007322</td>\n",
       "      <td>0</td>\n",
       "      <td>0</td>\n",
       "      <td>0</td>\n",
       "      <td>1</td>\n",
       "      <td>0</td>\n",
       "      <td>0</td>\n",
       "      <td>0</td>\n",
       "      <td>0</td>\n",
       "      <td>1</td>\n",
       "      <td>0</td>\n",
       "      <td>0</td>\n",
       "    </tr>\n",
       "    <tr>\n",
       "      <th>...</th>\n",
       "      <td>...</td>\n",
       "      <td>...</td>\n",
       "      <td>...</td>\n",
       "      <td>...</td>\n",
       "      <td>...</td>\n",
       "      <td>...</td>\n",
       "      <td>...</td>\n",
       "      <td>...</td>\n",
       "      <td>...</td>\n",
       "      <td>...</td>\n",
       "      <td>...</td>\n",
       "      <td>...</td>\n",
       "      <td>...</td>\n",
       "      <td>...</td>\n",
       "      <td>...</td>\n",
       "    </tr>\n",
       "    <tr>\n",
       "      <th>99995</th>\n",
       "      <td>-0.691753</td>\n",
       "      <td>1.405737</td>\n",
       "      <td>-0.454500</td>\n",
       "      <td>-0.299077</td>\n",
       "      <td>1</td>\n",
       "      <td>1</td>\n",
       "      <td>0</td>\n",
       "      <td>0</td>\n",
       "      <td>0</td>\n",
       "      <td>0</td>\n",
       "      <td>1</td>\n",
       "      <td>0</td>\n",
       "      <td>0</td>\n",
       "      <td>0</td>\n",
       "      <td>0</td>\n",
       "    </tr>\n",
       "    <tr>\n",
       "      <th>99996</th>\n",
       "      <td>1.154839</td>\n",
       "      <td>0.929202</td>\n",
       "      <td>-0.126715</td>\n",
       "      <td>0.620391</td>\n",
       "      <td>0</td>\n",
       "      <td>0</td>\n",
       "      <td>0</td>\n",
       "      <td>0</td>\n",
       "      <td>1</td>\n",
       "      <td>0</td>\n",
       "      <td>0</td>\n",
       "      <td>0</td>\n",
       "      <td>0</td>\n",
       "      <td>0</td>\n",
       "      <td>1</td>\n",
       "    </tr>\n",
       "    <tr>\n",
       "      <th>99997</th>\n",
       "      <td>1.272940</td>\n",
       "      <td>0.680706</td>\n",
       "      <td>1.482178</td>\n",
       "      <td>-0.106018</td>\n",
       "      <td>1</td>\n",
       "      <td>0</td>\n",
       "      <td>0</td>\n",
       "      <td>0</td>\n",
       "      <td>0</td>\n",
       "      <td>0</td>\n",
       "      <td>0</td>\n",
       "      <td>0</td>\n",
       "      <td>0</td>\n",
       "      <td>0</td>\n",
       "      <td>1</td>\n",
       "    </tr>\n",
       "    <tr>\n",
       "      <th>99998</th>\n",
       "      <td>0.487082</td>\n",
       "      <td>1.050728</td>\n",
       "      <td>-0.758659</td>\n",
       "      <td>1.181236</td>\n",
       "      <td>0</td>\n",
       "      <td>0</td>\n",
       "      <td>0</td>\n",
       "      <td>0</td>\n",
       "      <td>1</td>\n",
       "      <td>0</td>\n",
       "      <td>0</td>\n",
       "      <td>0</td>\n",
       "      <td>1</td>\n",
       "      <td>0</td>\n",
       "      <td>0</td>\n",
       "    </tr>\n",
       "    <tr>\n",
       "      <th>99999</th>\n",
       "      <td>-1.118279</td>\n",
       "      <td>0.929202</td>\n",
       "      <td>0.592265</td>\n",
       "      <td>-0.728865</td>\n",
       "      <td>0</td>\n",
       "      <td>0</td>\n",
       "      <td>1</td>\n",
       "      <td>0</td>\n",
       "      <td>0</td>\n",
       "      <td>1</td>\n",
       "      <td>0</td>\n",
       "      <td>0</td>\n",
       "      <td>0</td>\n",
       "      <td>0</td>\n",
       "      <td>0</td>\n",
       "    </tr>\n",
       "  </tbody>\n",
       "</table>\n",
       "<p>100000 rows × 15 columns</p>\n",
       "</div>"
      ],
      "text/plain": [
       "       Age_BoxCox  Subscription_Length_Months_BoxCox  Monthly_Bill_BoxCox  \\\n",
       "0        1.214006                           0.680706             0.440831   \n",
       "1        1.154839                          -1.898801            -0.784410   \n",
       "2       -1.340286                          -1.059762             1.003984   \n",
       "3       -0.485882                          -1.436867             1.563034   \n",
       "4        0.171890                           0.929202            -0.302018   \n",
       "...           ...                                ...                  ...   \n",
       "99995   -0.691753                           1.405737            -0.454500   \n",
       "99996    1.154839                           0.929202            -0.126715   \n",
       "99997    1.272940                           0.680706             1.482178   \n",
       "99998    0.487082                           1.050728            -0.758659   \n",
       "99999   -1.118279                           0.929202             0.592265   \n",
       "\n",
       "       Total_Usage_GB_BoxCox  Gender_Male  Location_Houston  \\\n",
       "0                  -0.221197            1                 0   \n",
       "1                  -0.737289            0                 0   \n",
       "2                   1.350784            0                 0   \n",
       "3                   0.236280            0                 0   \n",
       "4                   0.007322            0                 0   \n",
       "...                      ...          ...               ...   \n",
       "99995              -0.299077            1                 1   \n",
       "99996               0.620391            0                 0   \n",
       "99997              -0.106018            1                 0   \n",
       "99998               1.181236            0                 0   \n",
       "99999              -0.728865            0                 0   \n",
       "\n",
       "       Location_Los Angeles  Location_Miami  Location_New York  Age_Bin_26-32  \\\n",
       "0                         1               0                  0              0   \n",
       "1                         0               0                  1              0   \n",
       "2                         1               0                  0              0   \n",
       "3                         0               1                  0              0   \n",
       "4                         0               1                  0              0   \n",
       "...                     ...             ...                ...            ...   \n",
       "99995                     0               0                  0              0   \n",
       "99996                     0               0                  1              0   \n",
       "99997                     0               0                  0              0   \n",
       "99998                     0               0                  1              0   \n",
       "99999                     1               0                  0              1   \n",
       "\n",
       "       Age_Bin_33-39  Age_Bin_40-46  Age_Bin_47-53  Age_Bin_54-60  \\\n",
       "0                  0              0              0              0   \n",
       "1                  0              0              0              0   \n",
       "2                  0              0              0              0   \n",
       "3                  1              0              0              0   \n",
       "4                  0              0              1              0   \n",
       "...              ...            ...            ...            ...   \n",
       "99995              1              0              0              0   \n",
       "99996              0              0              0              0   \n",
       "99997              0              0              0              0   \n",
       "99998              0              0              1              0   \n",
       "99999              0              0              0              0   \n",
       "\n",
       "       Age_Bin_61-70  \n",
       "0                  1  \n",
       "1                  1  \n",
       "2                  0  \n",
       "3                  0  \n",
       "4                  0  \n",
       "...              ...  \n",
       "99995              0  \n",
       "99996              1  \n",
       "99997              1  \n",
       "99998              0  \n",
       "99999              0  \n",
       "\n",
       "[100000 rows x 15 columns]"
      ]
     },
     "execution_count": 85,
     "metadata": {},
     "output_type": "execute_result"
    }
   ],
   "source": [
    "x"
   ]
  },
  {
   "cell_type": "code",
   "execution_count": 86,
   "id": "cd543b42",
   "metadata": {},
   "outputs": [],
   "source": [
    "x_train,x_test,y_train, y_test = train_test_split(x,y,test_size=0.3,random_state=1)"
   ]
  },
  {
   "cell_type": "code",
   "execution_count": 87,
   "id": "07cfa67e",
   "metadata": {},
   "outputs": [
    {
     "name": "stdout",
     "output_type": "stream",
     "text": [
      "x_train (70000, 15)\n",
      "x_test (30000, 15)\n",
      "y_train (70000,)\n",
      "y_test (30000,)\n"
     ]
    }
   ],
   "source": [
    "print('x_train',x_train.shape)\n",
    "print('x_test',x_test.shape)\n",
    "print('y_train',y_train.shape)\n",
    "print('y_test',y_test.shape)"
   ]
  },
  {
   "cell_type": "markdown",
   "id": "7a8dfae8",
   "metadata": {},
   "source": [
    "# K-fold cross validation"
   ]
  },
  {
   "cell_type": "code",
   "execution_count": 88,
   "id": "07ea0557",
   "metadata": {},
   "outputs": [],
   "source": [
    "cv = KFold(n_splits=5,shuffle=True,random_state=None)"
   ]
  },
  {
   "cell_type": "code",
   "execution_count": null,
   "id": "61aeb127",
   "metadata": {},
   "outputs": [],
   "source": []
  },
  {
   "cell_type": "code",
   "execution_count": 89,
   "id": "0264a08c",
   "metadata": {},
   "outputs": [],
   "source": [
    "clfs={\n",
    "    'Logistic Regressor':LogisticRegression(),\n",
    "    'KNN':KNeighborsClassifier(),\n",
    "    'Decision Tree':DecisionTreeClassifier(),\n",
    "    'Random Forest':RandomForestClassifier() ,\n",
    "    'Naive Bayes':GaussianNB()\n",
    "}\n",
    "\n"
   ]
  },
  {
   "cell_type": "markdown",
   "id": "271df6a4",
   "metadata": {},
   "source": [
    "# Before Transformation"
   ]
  },
  {
   "cell_type": "code",
   "execution_count": 266,
   "id": "9df9af1d",
   "metadata": {},
   "outputs": [
    {
     "name": "stdout",
     "output_type": "stream",
     "text": [
      "Fitting Classifier..... Logistic Regressor\n"
     ]
    },
    {
     "name": "stderr",
     "output_type": "stream",
     "text": [
      "C:\\Users\\Admin\\AppData\\Local\\Temp\\ipykernel_9968\\4021077235.py:15: FutureWarning: The frame.append method is deprecated and will be removed from pandas in a future version. Use pandas.concat instead.\n",
      "  model_report=model_report.append(t,ignore_index=True)\n"
     ]
    },
    {
     "name": "stdout",
     "output_type": "stream",
     "text": [
      "Fitting Classifier..... KNN\n"
     ]
    },
    {
     "name": "stderr",
     "output_type": "stream",
     "text": [
      "C:\\Users\\Admin\\AppData\\Local\\Temp\\ipykernel_9968\\4021077235.py:15: FutureWarning: The frame.append method is deprecated and will be removed from pandas in a future version. Use pandas.concat instead.\n",
      "  model_report=model_report.append(t,ignore_index=True)\n"
     ]
    },
    {
     "name": "stdout",
     "output_type": "stream",
     "text": [
      "Fitting Classifier..... Decision Tree\n"
     ]
    },
    {
     "name": "stderr",
     "output_type": "stream",
     "text": [
      "C:\\Users\\Admin\\AppData\\Local\\Temp\\ipykernel_9968\\4021077235.py:15: FutureWarning: The frame.append method is deprecated and will be removed from pandas in a future version. Use pandas.concat instead.\n",
      "  model_report=model_report.append(t,ignore_index=True)\n"
     ]
    },
    {
     "name": "stdout",
     "output_type": "stream",
     "text": [
      "Fitting Classifier..... Random Forest\n",
      "Fitting Classifier..... Naive Bayes\n",
      "           model name  accuracy    recall  precision  f1_score  roc auc score\n",
      "2       Decision Tree  0.503933  0.503022   0.500267  0.501641       0.503927\n",
      "1                 KNN  0.505700  0.496172   0.502073  0.499105       0.505631\n",
      "4         Naive Bayes  0.501500  0.472465   0.497701  0.484755       0.501289\n",
      "3       Random Forest  0.501633  0.471323   0.497836  0.484217       0.501413\n",
      "0  Logistic Regressor  0.502567  0.439624   0.498743  0.467321       0.502108\n"
     ]
    },
    {
     "name": "stderr",
     "output_type": "stream",
     "text": [
      "C:\\Users\\Admin\\AppData\\Local\\Temp\\ipykernel_9968\\4021077235.py:15: FutureWarning: The frame.append method is deprecated and will be removed from pandas in a future version. Use pandas.concat instead.\n",
      "  model_report=model_report.append(t,ignore_index=True)\n",
      "C:\\Users\\Admin\\AppData\\Local\\Temp\\ipykernel_9968\\4021077235.py:15: FutureWarning: The frame.append method is deprecated and will be removed from pandas in a future version. Use pandas.concat instead.\n",
      "  model_report=model_report.append(t,ignore_index=True)\n"
     ]
    }
   ],
   "source": [
    "# model_report=pd.DataFrame(columns=['model name','accuracy','recall','precision','f1_score','roc auc score'])\n",
    "\n",
    "# for clf,clf_name in list(zip(clfs.values(),clfs.keys())):\n",
    "#     clf.fit(x_train,y_train)\n",
    "#     print('Fitting Classifier.....',clf_name)\n",
    "#     y_pred=clf.predict(x_test)\n",
    "#     t=pd.Series({\n",
    "#       'model name':clf_name,\n",
    "#       'accuracy':accuracy_score(y_test,y_pred),\n",
    "#       'recall':recall_score(y_test,y_pred),\n",
    "#       'precision':precision_score(y_test,y_pred),\n",
    "#       'f1_score':f1_score(y_test,y_pred),\n",
    "#       'roc auc score':roc_auc_score(y_test,y_pred)\n",
    "#     })\n",
    "#     model_report=model_report.append(t,ignore_index=True)\n",
    "# model_report=model_report.sort_values(by='f1_score',ascending=False)\n",
    "# print(model_report)"
   ]
  },
  {
   "cell_type": "markdown",
   "id": "e0105d0b",
   "metadata": {},
   "source": [
    "# After Transformation"
   ]
  },
  {
   "cell_type": "code",
   "execution_count": 90,
   "id": "8f4a6927",
   "metadata": {},
   "outputs": [
    {
     "name": "stdout",
     "output_type": "stream",
     "text": [
      "Fitting Classifier..... Logistic Regressor\n"
     ]
    },
    {
     "name": "stderr",
     "output_type": "stream",
     "text": [
      "C:\\Users\\Admin\\AppData\\Local\\Temp\\ipykernel_8632\\4010169563.py:15: FutureWarning: The frame.append method is deprecated and will be removed from pandas in a future version. Use pandas.concat instead.\n",
      "  model_report=model_report.append(t,ignore_index=True)\n"
     ]
    },
    {
     "name": "stdout",
     "output_type": "stream",
     "text": [
      "Fitting Classifier..... KNN\n"
     ]
    },
    {
     "name": "stderr",
     "output_type": "stream",
     "text": [
      "C:\\Users\\Admin\\AppData\\Local\\Temp\\ipykernel_8632\\4010169563.py:15: FutureWarning: The frame.append method is deprecated and will be removed from pandas in a future version. Use pandas.concat instead.\n",
      "  model_report=model_report.append(t,ignore_index=True)\n"
     ]
    },
    {
     "name": "stdout",
     "output_type": "stream",
     "text": [
      "Fitting Classifier..... Decision Tree\n"
     ]
    },
    {
     "name": "stderr",
     "output_type": "stream",
     "text": [
      "C:\\Users\\Admin\\AppData\\Local\\Temp\\ipykernel_8632\\4010169563.py:15: FutureWarning: The frame.append method is deprecated and will be removed from pandas in a future version. Use pandas.concat instead.\n",
      "  model_report=model_report.append(t,ignore_index=True)\n"
     ]
    },
    {
     "name": "stdout",
     "output_type": "stream",
     "text": [
      "Fitting Classifier..... Random Forest\n",
      "Fitting Classifier..... Naive Bayes\n",
      "           model name  accuracy    recall  precision  f1_score  roc auc score\n",
      "4         Naive Bayes  0.503300  0.512827   0.499640  0.506148       0.503369\n",
      "2       Decision Tree  0.501067  0.500470   0.497397  0.498929       0.501062\n",
      "1                 KNN  0.500067  0.490396   0.496330  0.493345       0.499996\n",
      "3       Random Forest  0.501767  0.480255   0.498015  0.488974       0.501610\n",
      "0  Logistic Regressor  0.506733  0.457152   0.503402  0.479164       0.506372\n"
     ]
    },
    {
     "name": "stderr",
     "output_type": "stream",
     "text": [
      "C:\\Users\\Admin\\AppData\\Local\\Temp\\ipykernel_8632\\4010169563.py:15: FutureWarning: The frame.append method is deprecated and will be removed from pandas in a future version. Use pandas.concat instead.\n",
      "  model_report=model_report.append(t,ignore_index=True)\n",
      "C:\\Users\\Admin\\AppData\\Local\\Temp\\ipykernel_8632\\4010169563.py:15: FutureWarning: The frame.append method is deprecated and will be removed from pandas in a future version. Use pandas.concat instead.\n",
      "  model_report=model_report.append(t,ignore_index=True)\n"
     ]
    }
   ],
   "source": [
    "\n",
    "model_report=pd.DataFrame(columns=['model name','accuracy','recall','precision','f1_score','roc auc score'])\n",
    "\n",
    "for clf,clf_name in list(zip(clfs.values(),clfs.keys())):\n",
    "    clf.fit(x_train,y_train)\n",
    "    print('Fitting Classifier.....',clf_name)\n",
    "    y_pred=clf.predict(x_test)\n",
    "    t=pd.Series({\n",
    "      'model name':clf_name,\n",
    "      'accuracy':accuracy_score(y_test,y_pred),\n",
    "      'recall':recall_score(y_test,y_pred),\n",
    "      'precision':precision_score(y_test,y_pred),\n",
    "      'f1_score':f1_score(y_test,y_pred),\n",
    "      'roc auc score':roc_auc_score(y_test,y_pred)\n",
    "    })\n",
    "    model_report=model_report.append(t,ignore_index=True)\n",
    "model_report=model_report.sort_values(by='f1_score',ascending=False)\n",
    "print(model_report)"
   ]
  },
  {
   "cell_type": "code",
   "execution_count": null,
   "id": "9aa86b2b",
   "metadata": {},
   "outputs": [],
   "source": []
  },
  {
   "cell_type": "code",
   "execution_count": 91,
   "id": "416606d5",
   "metadata": {},
   "outputs": [],
   "source": [
    "# As we saw in statistical test there were no significant features except location ,\n",
    "# so we cant except good f1 score from the model so trying adaboost or xgboost models"
   ]
  },
  {
   "cell_type": "code",
   "execution_count": 92,
   "id": "ce9fe650",
   "metadata": {},
   "outputs": [
    {
     "name": "stdout",
     "output_type": "stream",
     "text": [
      "f1 score of xgb :0.49468049061462355\n",
      "accuracy of xgb :0.5028666666666667\n"
     ]
    }
   ],
   "source": [
    "xgb = XGBClassifier()\n",
    "xgb.fit(x_train,y_train)\n",
    "y_pred_xgb=xgb.predict(x_test)\n",
    "print(f'f1 score of xgb :{f1_score(y_test,y_pred_xgb)}')\n",
    "print(f'accuracy of xgb :{accuracy_score(y_test,y_pred_xgb)}')"
   ]
  },
  {
   "cell_type": "code",
   "execution_count": 93,
   "id": "11ad1c8b",
   "metadata": {},
   "outputs": [
    {
     "name": "stdout",
     "output_type": "stream",
     "text": [
      "f1 score of adaboost :0.4648094367358646\n",
      "accuracy of adaboost :0.5024333333333333\n"
     ]
    }
   ],
   "source": [
    "ada = AdaBoostClassifier()\n",
    "ada.fit(x_train,y_train)\n",
    "y_pred_ada=ada.predict(x_test)\n",
    "print(f'f1 score of adaboost :{f1_score(y_test,y_pred_ada)}')\n",
    "print(f'accuracy of adaboost :{accuracy_score(y_test,y_pred_ada)}')\n"
   ]
  },
  {
   "cell_type": "raw",
   "id": "2cb51bb0",
   "metadata": {},
   "source": [
    "# So from above all models Decision Tree's performance is better"
   ]
  },
  {
   "cell_type": "code",
   "execution_count": 94,
   "id": "07cb563b",
   "metadata": {},
   "outputs": [
    {
     "name": "stdout",
     "output_type": "stream",
     "text": [
      "f1 score of decisiontree :0.4981908335566872\n",
      "accuracy of decisiontree :0.5007333333333334\n"
     ]
    }
   ],
   "source": [
    "dt = DecisionTreeClassifier()\n",
    "dt.fit(x_train,y_train)\n",
    "y_pred_dt = dt.predict(x_test)\n",
    "print(f'f1 score of decisiontree :{f1_score(y_test,y_pred_dt)}')\n",
    "print(f'accuracy of decisiontree :{accuracy_score(y_test,y_pred_dt)}')\n"
   ]
  },
  {
   "cell_type": "code",
   "execution_count": 95,
   "id": "ae98bf52",
   "metadata": {},
   "outputs": [
    {
     "data": {
      "image/png": "[encoded data removed]",
      "text/plain": [
       "<Figure size 640x480 with 1 Axes>"
      ]
     },
     "metadata": {},
     "output_type": "display_data"
    }
   ],
   "source": [
    "cm = confusion_matrix(y_test,y_pred_dt)\n",
    "sns.heatmap(cm, annot=True, fmt=\"d\", cmap=\"Blues\", cbar=False,\n",
    "            xticklabels=[f\"Predicted {i}\" for i in range(max(y_test)+1)],\n",
    "            yticklabels=[f\"True {i}\" for i in range(max(y_test)+1)])\n",
    "\n",
    "plt.title(\"Confusion Matrix\")\n",
    "plt.ylabel(\"True label\")\n",
    "plt.xlabel(\"Predicted label\")\n",
    "plt.show()\n",
    "\n",
    "\n",
    "\n",
    "\n",
    "\n"
   ]
  },
  {
   "cell_type": "code",
   "execution_count": 96,
   "id": "b2d85e63",
   "metadata": {},
   "outputs": [
    {
     "name": "stdout",
     "output_type": "stream",
     "text": [
      "              precision    recall  f1-score   support\n",
      "\n",
      "           0       0.50      0.50      0.50     15110\n",
      "           1       0.50      0.50      0.50     14890\n",
      "\n",
      "    accuracy                           0.50     30000\n",
      "   macro avg       0.50      0.50      0.50     30000\n",
      "weighted avg       0.50      0.50      0.50     30000\n",
      "\n"
     ]
    }
   ],
   "source": [
    "print(classification_report(y_test,y_pred_dt))"
   ]
  },
  {
   "cell_type": "code",
   "execution_count": 97,
   "id": "344e9039",
   "metadata": {},
   "outputs": [],
   "source": [
    "fpr,tpr,_ = roc_curve(y_test,y_pred_dt)\n",
    "roc_auc = auc(fpr,tpr)"
   ]
  },
  {
   "cell_type": "code",
   "execution_count": 98,
   "id": "80142cba",
   "metadata": {},
   "outputs": [
    {
     "data": {
      "image/png": "[encoded data removed]",
      "text/plain": [
       "<Figure size 800x600 with 1 Axes>"
      ]
     },
     "metadata": {},
     "output_type": "display_data"
    }
   ],
   "source": [
    "plt.figure(figsize=(8, 6))\n",
    "plt.plot(fpr, tpr, color='darkorange', lw=2, label=f'ROC curve (area = {roc_auc:.2f})')\n",
    "plt.plot([0, 1], [0, 1], color='navy', lw=2, linestyle='--')\n",
    "plt.xlabel('False Positive Rate')\n",
    "plt.ylabel('True Positive Rate')\n",
    "plt.title('Receiver Operating Characteristic (ROC) Curve')\n",
    "plt.legend(loc='lower right')\n",
    "plt.show()"
   ]
  },
  {
   "cell_type": "markdown",
   "id": "d1265259",
   "metadata": {},
   "source": [
    "# Hyperparameter tuning (GridsearchCV)"
   ]
  },
  {
   "cell_type": "code",
   "execution_count": 99,
   "id": "f24b1db0",
   "metadata": {},
   "outputs": [],
   "source": [
    "# KNN"
   ]
  },
  {
   "cell_type": "code",
   "execution_count": 100,
   "id": "87e026e0",
   "metadata": {},
   "outputs": [],
   "source": [
    "knn = KNeighborsClassifier()\n",
    "param_grid = {\n",
    "    'n_neighbors': [3, 5, 7, 9],\n",
    "    'weights': ['uniform', 'distance'],\n",
    "    'p': [1, 2]  # 1 for Manhattan distance, 2 for Euclidean distance\n",
    "}"
   ]
  },
  {
   "cell_type": "code",
   "execution_count": 101,
   "id": "347eeb51",
   "metadata": {},
   "outputs": [],
   "source": [
    "grid_search = GridSearchCV(estimator=knn, param_grid=param_grid, scoring='accuracy', cv=3)\n"
   ]
  },
  {
   "cell_type": "code",
   "execution_count": 102,
   "id": "59f2efd8",
   "metadata": {},
   "outputs": [
    {
     "name": "stdout",
     "output_type": "stream",
     "text": [
      "Best Parameters: {'n_neighbors': 7, 'p': 1, 'weights': 'uniform'}\n",
      "Test Accuracy: 0.5004333333333333\n"
     ]
    }
   ],
   "source": [
    "grid_search.fit(x_train, y_train)\n",
    "\n",
    "best_model = grid_search.best_estimator_\n",
    "\n",
    "y_pred_knn = best_model.predict(x_test)\n",
    "accuracy = accuracy_score(y_test, y_pred_knn)\n",
    "print(\"Best Parameters:\", grid_search.best_params_)\n",
    "print(\"Test Accuracy:\", accuracy)\n"
   ]
  },
  {
   "cell_type": "code",
   "execution_count": 103,
   "id": "fba5a20b",
   "metadata": {},
   "outputs": [],
   "source": [
    "# Decision tree"
   ]
  },
  {
   "cell_type": "code",
   "execution_count": 104,
   "id": "b5ddd319",
   "metadata": {},
   "outputs": [],
   "source": [
    "param_grid = {\n",
    "    'max_depth': [None, 5, 10, 15],\n",
    "    'min_samples_split': [2, 5, 10],\n",
    "    'min_samples_leaf': [1, 2, 4]\n",
    "}"
   ]
  },
  {
   "cell_type": "code",
   "execution_count": 105,
   "id": "7aa533eb",
   "metadata": {},
   "outputs": [
    {
     "name": "stdout",
     "output_type": "stream",
     "text": [
      "Best Parameters: {'max_depth': None, 'min_samples_leaf': 4, 'min_samples_split': 5}\n",
      "Test Accuracy: 0.5011\n"
     ]
    }
   ],
   "source": [
    "grid_search = GridSearchCV(estimator=dt, param_grid=param_grid, scoring='accuracy', cv=3)\n",
    "grid_search.fit(x_train, y_train)\n",
    "best_model = grid_search.best_estimator_\n",
    "\n",
    "y_pred_dt1 = best_model.predict(x_test)\n",
    "accuracy = accuracy_score(y_test, y_pred_dt1)\n",
    "\n",
    "print(\"Best Parameters:\", grid_search.best_params_)\n",
    "print(\"Test Accuracy:\", accuracy)\n"
   ]
  },
  {
   "cell_type": "code",
   "execution_count": null,
   "id": "7e3022b8",
   "metadata": {},
   "outputs": [],
   "source": []
  },
  {
   "cell_type": "raw",
   "id": "671ecf87",
   "metadata": {},
   "source": [
    "# Creating pickle file"
   ]
  },
  {
   "cell_type": "code",
   "execution_count": 110,
   "id": "af008f38",
   "metadata": {},
   "outputs": [],
   "source": [
    "import pickle\n",
    "# model_pkl_file='Customer_churn.pkl'\n",
    "# with open(model_pkl_file,'wb') as file:\n",
    "#     pickle.dump(dt,file)\n",
    "    \n",
    "# with open(model_pkl_file,'rb') as file:\n",
    "#     dt=pickle.load(file)\n",
    "# y_pred_dt=dt.predict(x_test)\n"
   ]
  },
  {
   "cell_type": "code",
   "execution_count": 111,
   "id": "4b132b3c",
   "metadata": {},
   "outputs": [],
   "source": [
    "model_pkl_file = \"Customer_churn.pkl\"\n",
    "with open(model_pkl_file, 'wb') as file:\n",
    "    pickle.dump(dt, file)"
   ]
  },
  {
   "cell_type": "code",
   "execution_count": 199,
   "id": "98d550ed",
   "metadata": {},
   "outputs": [],
   "source": [
    "\n",
    "# import pickle\n",
    "# from sklearn.tree import DecisionTreeClassifier\n",
    "# import sklearn\n",
    "\n",
    "\n",
    "# model_pkl_file = 'Customer_churn.pkl'\n",
    "# with open(model_pkl_file, 'wb') as file:\n",
    "#     pickle.dump((dt, sklearn.__version__), file)\n",
    "\n",
    "# # Load the model with scikit-learn version information\n",
    "# with open(model_pkl_file, 'rb') as file:\n",
    "#     loaded_model, loaded_sklearn_version = pickle.load(file)\n",
    "\n",
    "# # Check for version consistency\n",
    "# if sklearn.__version__ != loaded_sklearn_version:\n",
    "#     print(f\"Warning: Scikit-learn version mismatch. Loaded version: {loaded_sklearn_version}\")\n",
    "\n",
    "# # Use the loaded_model for predictions\n",
    "# y_pred_dt = loaded_model.predict(x_test)"
   ]
  },
  {
   "cell_type": "code",
   "execution_count": null,
   "id": "6861de41",
   "metadata": {},
   "outputs": [],
   "source": []
  },
  {
   "cell_type": "code",
   "execution_count": 108,
   "id": "60d441bc",
   "metadata": {},
   "outputs": [
    {
     "name": "stdout",
     "output_type": "stream",
     "text": [
      "Scikit-learn version: 1.3.1\n"
     ]
    }
   ],
   "source": [
    "import sklearn\n",
    "print(\"Scikit-learn version:\", sklearn.__version__)"
   ]
  },
  {
   "cell_type": "code",
   "execution_count": null,
   "id": "45836428",
   "metadata": {},
   "outputs": [],
   "source": []
  },
  {
   "cell_type": "code",
   "execution_count": null,
   "id": "cc58cec0",
   "metadata": {},
   "outputs": [],
   "source": []
  }
 ],
 "metadata": {
  "kernelspec": {
   "display_name": "Python 3 (ipykernel)",
   "language": "python",
   "name": "python3"
  },
  "language_info": {
   "codemirror_mode": {
    "name": "ipython",
    "version": 3
   },
   "file_extension": ".py",
   "mimetype": "text/x-python",
   "name": "python",
   "nbconvert_exporter": "python",
   "pygments_lexer": "ipython3",
   "version": "3.11.4"
  }
 },
 "nbformat": 4,
 "nbformat_minor": 5
}
